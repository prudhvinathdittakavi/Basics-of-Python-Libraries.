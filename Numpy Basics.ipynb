{
 "cells": [
  {
   "cell_type": "markdown",
   "metadata": {},
   "source": [
    "# Numpy Basics\n",
    "- Numpy.arrays are homogeneous multidimensional array.\n",
    "- array.array can only handle only one dimential array. "
   ]
  },
  {
   "cell_type": "code",
   "execution_count": 1,
   "metadata": {},
   "outputs": [
    {
     "name": "stdout",
     "output_type": "stream",
     "text": [
      "(4, 4)\n",
      "2\n",
      "16\n",
      "int32\n",
      "<class 'numpy.ndarray'>\n"
     ]
    }
   ],
   "source": [
    "# Import numpy\n",
    "import numpy as np\n",
    "\n",
    "# Creation of 4*4 array\n",
    "\n",
    "a = np.arange(16).reshape(4, 4) # arange(x) [0,1,2,3,4......x]\n",
    "\n",
    "# Attributes of ndarray\n",
    "\n",
    "shape = a.shape # it gives the dimensions of the matrix (n, m) \n",
    "dimensions = a.ndim # Number of dimensions\n",
    "size = a.size # Total number of elements \n",
    "Data_type = a.dtype.name # type of the elements ex: int32 float64\n",
    "Object_type = type(a) \n",
    "\n",
    "print(shape)\n",
    "print(dimensions)\n",
    "print(size)\n",
    "print(Data_type)\n",
    "print(Object_type)"
   ]
  },
  {
   "cell_type": "markdown",
   "metadata": {},
   "source": [
    "## Array Creation"
   ]
  },
  {
   "cell_type": "code",
   "execution_count": 12,
   "metadata": {},
   "outputs": [
    {
     "name": "stdout",
     "output_type": "stream",
     "text": [
      "int32\n",
      "float64\n"
     ]
    }
   ],
   "source": [
    "c = np.array([1,2,3,4,5]) \n",
    "a = np.array([(1,2,3),(4,5,6)])\n",
    "b = np.array([(1,2,3),(4,5,6)], dtype = 'float64' )\n",
    "a_dtype = a.dtype.name\n",
    "b_dtype = b.dtype.name\n",
    "print(a_dtype)\n",
    "print(b_dtype)"
   ]
  },
  {
   "cell_type": "markdown",
   "metadata": {},
   "source": [
    " ## array of zeros or ones"
   ]
  },
  {
   "cell_type": "code",
   "execution_count": 18,
   "metadata": {},
   "outputs": [
    {
     "name": "stdout",
     "output_type": "stream",
     "text": [
      "[[ 0.  0.  0.  0.]\n",
      " [ 0.  0.  0.  0.]\n",
      " [ 0.  0.  0.  0.]\n",
      " [ 0.  0.  0.  0.]]\n",
      "[[ 1.  1.  1.  1.]\n",
      " [ 1.  1.  1.  1.]\n",
      " [ 1.  1.  1.  1.]\n",
      " [ 1.  1.  1.  1.]]\n"
     ]
    }
   ],
   "source": [
    "# array of zeros or ones\n",
    "a = np.zeros((4,4), dtype = np.float64)\n",
    "b = np.ones((4,4))\n",
    "print(a)\n",
    "print(b)"
   ]
  },
  {
   "cell_type": "markdown",
   "metadata": {},
   "source": [
    "## Generation of random numbers from different distributions."
   ]
  },
  {
   "cell_type": "code",
   "execution_count": 3,
   "metadata": {
    "collapsed": true
   },
   "outputs": [],
   "source": [
    "a = np.random.rand() # rand generates a uniform distribution over [0,1)\n",
    "b = np.random.rand(2,2)\n",
    "c = np.random.randn() # randn generates standred normal distribution. \n",
    "d = np.random.normal(0, 10, 20) # Random number from a normal distribution with mean = 0, standard deviation = 10 \n",
    "e = np.random.randint(0,16,16)  #16 random int btw 0 & 16"
   ]
  },
  {
   "cell_type": "markdown",
   "metadata": {},
   "source": [
    "## Generate sequence of numbers"
   ]
  },
  {
   "cell_type": "code",
   "execution_count": 25,
   "metadata": {},
   "outputs": [
    {
     "data": {
      "text/plain": [
       "array([  0.        ,   0.52631579,   1.05263158,   1.57894737,\n",
       "         2.10526316,   2.63157895,   3.15789474,   3.68421053,\n",
       "         4.21052632,   4.73684211,   5.26315789,   5.78947368,\n",
       "         6.31578947,   6.84210526,   7.36842105,   7.89473684,\n",
       "         8.42105263,   8.94736842,   9.47368421,  10.        ])"
      ]
     },
     "execution_count": 25,
     "metadata": {},
     "output_type": "execute_result"
    }
   ],
   "source": [
    "a = np.arange(0,10,0.5) # Start = 0, End = 10, Intervel = 0.5\n",
    "\n",
    "# If you do not know the length of the intervel\n",
    "\n",
    "b = np.linspace(0,10,20) # Start = 0, End = 10, #digits = 20\n"
   ]
  },
  {
   "cell_type": "markdown",
   "metadata": {},
   "source": [
    "## np.zeros_like, np.ones_like, empty_like"
   ]
  },
  {
   "cell_type": "code",
   "execution_count": 30,
   "metadata": {},
   "outputs": [
    {
     "name": "stdout",
     "output_type": "stream",
     "text": [
      "[[0 1 2]\n",
      " [3 4 5]\n",
      " [6 7 8]]\n",
      "[[0 0 0]\n",
      " [0 0 0]\n",
      " [0 0 0]]\n",
      "[[1 1 1]\n",
      " [1 1 1]\n",
      " [1 1 1]]\n",
      "[[-466179688        577 2080595712]\n",
      " [1678010880 1913219845 2080924740]\n",
      " [1678073600  687887111 1393981961]]\n"
     ]
    }
   ],
   "source": [
    "a = np.arange(9).reshape((3,3))\n",
    "b = np.zeros_like(a)\n",
    "c = np.ones_like(a)\n",
    "d = np.empty_like(a)\n",
    "\n",
    "print(a)\n",
    "print(b)\n",
    "print(c)\n",
    "print(d)"
   ]
  },
  {
   "cell_type": "markdown",
   "metadata": {},
   "source": [
    "## ****fromfunction, fromfile"
   ]
  },
  {
   "cell_type": "markdown",
   "metadata": {},
   "source": [
    "## Arithmetic operators on arrays apply elementwise"
   ]
  },
  {
   "cell_type": "code",
   "execution_count": 34,
   "metadata": {},
   "outputs": [
    {
     "name": "stdout",
     "output_type": "stream",
     "text": [
      "[1 2 3 4]\n",
      "[5 6 7 8]\n",
      "[ 5 12 21 32]\n",
      "[ 6  8 10 12]\n",
      "70\n",
      "70\n",
      "[ 1  4  9 16]\n",
      "[ True  True False False]\n"
     ]
    }
   ],
   "source": [
    "a = np.array([1,2,3,4])\n",
    "b = np.array([5,6,7,8])\n",
    "c = a*b                  # Elementwise product\n",
    "d = a+b \n",
    "e = a.dot(b)             # Matrix multiplication \n",
    "f = np.dot(a, b)         # Matrix multiplication \n",
    "g = a**2                 # a raised to the power of 2\n",
    "h = a<3                  \n",
    "print(a)\n",
    "print(b)\n",
    "print(c)\n",
    "print(d)\n",
    "print(e)\n",
    "print(f)\n",
    "print(g)\n",
    "print(h)"
   ]
  },
  {
   "cell_type": "markdown",
   "metadata": {},
   "source": [
    "## Sum, min and max."
   ]
  },
  {
   "cell_type": "code",
   "execution_count": 27,
   "metadata": {},
   "outputs": [
    {
     "name": "stdout",
     "output_type": "stream",
     "text": [
      "1\n",
      "5\n",
      "78\n"
     ]
    }
   ],
   "source": [
    "a = np.array([(1,2,3,4,5,6),(7,8,9,10,11,12)])\n",
    "minimum = a.min()\n",
    "maximum = a.argmax()\n",
    "sum_a = a.sum()\n",
    "\n",
    "print(minimum)\n",
    "print(maximum)\n",
    "print(sum_a)\n",
    "\n"
   ]
  },
  {
   "cell_type": "markdown",
   "metadata": {},
   "source": [
    "## Location of min & max"
   ]
  },
  {
   "cell_type": "code",
   "execution_count": 28,
   "metadata": {},
   "outputs": [
    {
     "name": "stdout",
     "output_type": "stream",
     "text": [
      "0\n",
      "4\n"
     ]
    }
   ],
   "source": [
    "a = np.arange(10).reshape(2,5)\n",
    "loc_min_1_row = a[0,:].argmin()\n",
    "loc_max_2_row = a[1,:].argmax()\n",
    "print(loc_min_1_row)\n",
    "print(loc_max_2_row)"
   ]
  },
  {
   "cell_type": "markdown",
   "metadata": {},
   "source": [
    "## Applying an operation along the specified axis of an array."
   ]
  },
  {
   "cell_type": "code",
   "execution_count": 41,
   "metadata": {},
   "outputs": [
    {
     "name": "stdout",
     "output_type": "stream",
     "text": [
      "[[ 0  1  2  3  4]\n",
      " [ 5  6  7  8  9]\n",
      " [10 11 12 13 14]\n",
      " [15 16 17 18 19]]\n",
      "[30 34 38 42 46]\n",
      "[      0   15120  240240 1395360]\n"
     ]
    }
   ],
   "source": [
    "a = np.arange(20).reshape(4,5)\n",
    " \n",
    "# axis = 0 (column), axis = 1 (row)\n",
    "\n",
    "Column_sum = a.sum(axis = 0)      # sum of each element in a column\n",
    "row_product = a.prod(axis = 1)    # product of each element in a row\n",
    "print(a)\n",
    "print(Column_sum)\n",
    "print(row_product)"
   ]
  },
  {
   "cell_type": "markdown",
   "metadata": {},
   "source": [
    "## Numpy.apply_along_axis"
   ]
  },
  {
   "cell_type": "code",
   "execution_count": 44,
   "metadata": {},
   "outputs": [
    {
     "name": "stdout",
     "output_type": "stream",
     "text": [
      "[[ 0  1  2  3  4]\n",
      " [ 5  6  7  8  9]\n",
      " [10 11 12 13 14]\n",
      " [15 16 17 18 19]]\n",
      "[  30  255  730 1455]\n"
     ]
    }
   ],
   "source": [
    "def Squ_and_sum(a):\n",
    "    result = 0\n",
    "    for i in range(len(a)):\n",
    "        result += a[i]**2\n",
    "    return(result)\n",
    "a = np.arange(20).reshape(4,5)\n",
    "b = np.apply_along_axis(Squ_and_sum, 1, a)\n",
    "print(a)\n",
    "print(b)"
   ]
  },
  {
   "cell_type": "markdown",
   "metadata": {},
   "source": [
    "## Argmax, argmin and argsort"
   ]
  },
  {
   "cell_type": "code",
   "execution_count": 50,
   "metadata": {},
   "outputs": [
    {
     "name": "stdout",
     "output_type": "stream",
     "text": [
      "[[-0.23164917 -1.21513463 -1.13636278]\n",
      " [ 2.29833036  1.26171602 -1.00785839]\n",
      " [-0.86895048  1.71938815 -0.14711293]]\n",
      "[1 2 2]\n"
     ]
    }
   ],
   "source": [
    "a= np.random.randn(9).reshape(3,3)\n",
    "b = np.argmax(a,axis = 0) # index of max value in each column\n",
    "print(a)\n",
    "print(b)"
   ]
  },
  {
   "cell_type": "markdown",
   "metadata": {},
   "source": [
    "## numpy.vectorize"
   ]
  },
  {
   "cell_type": "markdown",
   "metadata": {},
   "source": [
    "## Numpy.Where"
   ]
  },
  {
   "cell_type": "code",
   "execution_count": 61,
   "metadata": {},
   "outputs": [
    {
     "name": "stdout",
     "output_type": "stream",
     "text": [
      "(array([ 9, 10, 11, 12, 13, 14, 15, 16, 17, 18, 19, 20, 21, 22, 23, 24, 25,\n",
      "       26, 27, 28, 29, 30, 31, 32, 33, 34, 35, 36, 37, 38, 39], dtype=int64),)\n",
      "[  4.5   5.    5.5   6.    6.5   7.    7.5   8.    8.5   9.    9.5  10.\n",
      "  10.5  11.   11.5  12.   12.5  13.   13.5  14.   14.5  15.   15.5  16.\n",
      "  16.5  17.   17.5  18.   18.5  19.   19.5]\n"
     ]
    }
   ],
   "source": [
    "a = np.arange(0,20,0.5)\n",
    "b = np.where(a > 4)       # result is the index\n",
    "c = a[np.where(a > 4)]\n",
    "print(b)\n",
    "print(c)"
   ]
  },
  {
   "cell_type": "markdown",
   "metadata": {},
   "source": [
    "## Numpy.isin"
   ]
  },
  {
   "cell_type": "code",
   "execution_count": 2,
   "metadata": {},
   "outputs": [
    {
     "name": "stdout",
     "output_type": "stream",
     "text": [
      "[False False False False False False False  True  True  True]\n",
      "(array([7, 8, 9], dtype=int64),)\n"
     ]
    }
   ],
   "source": [
    "a = np.arange(10)\n",
    "b = np.arange(7,20,1)\n",
    "c = np.isin(a, b)\n",
    "d = np.where(c)\n",
    "print(c)\n",
    "print(d)"
   ]
  },
  {
   "cell_type": "markdown",
   "metadata": {},
   "source": [
    "##   ***fromfunction"
   ]
  },
  {
   "cell_type": "code",
   "execution_count": 23,
   "metadata": {},
   "outputs": [
    {
     "data": {
      "text/plain": [
       "1"
      ]
     },
     "execution_count": 23,
     "metadata": {},
     "output_type": "execute_result"
    }
   ],
   "source": [
    "# Construct an array by executing a function over each coordinate.\n",
    "def f(x, y):\n",
    "    if (x>y):\n",
    "        return 1\n",
    "    else:\n",
    "        return 0\n",
    "#np.fromfunction(f,(3,3),dtype=int)\n",
    "# def f(x,y):\n",
    "#     return 10*x+y\n",
    "# b = np.fromfunction(f,(5,4),dtype=int)\n",
    "# b\n",
    "\n",
    "c = f(4,3)\n",
    "c\n",
    "        "
   ]
  },
  {
   "cell_type": "markdown",
   "metadata": {},
   "source": [
    "## Indexing and Slicing "
   ]
  },
  {
   "cell_type": "code",
   "execution_count": 65,
   "metadata": {},
   "outputs": [
    {
     "data": {
      "text/plain": [
       "array([ 0,  1,  2,  3,  4,  5,  6,  7,  8,  9, 10, 11, 12])"
      ]
     },
     "execution_count": 65,
     "metadata": {},
     "output_type": "execute_result"
    }
   ],
   "source": [
    "a = np.arange(20)\n",
    "a1 = np.arange(20).reshape(4,5)\n",
    "b = a[2]        # select the element with index 2\n",
    "c = a[10:15]    # from [10 to 15)\n",
    "d = a[:10:2]    # from [0 to 10) select every 2nd number\n",
    "e = a[ : :-1]   # revers array a\n",
    "f = a[-1]       # - is used to access from back of an array\n",
    "g = a1[-1, :]   # last row, all column\n",
    "h = a[:-7]      # removal of last 7 numbers\n",
    "h\n",
    "\n",
    "# a[1, : , : ] can also be written as a[1,..]\n",
    "\n"
   ]
  },
  {
   "cell_type": "markdown",
   "metadata": {
    "collapsed": true
   },
   "source": [
    "## Iteration"
   ]
  },
  {
   "cell_type": "code",
   "execution_count": 70,
   "metadata": {},
   "outputs": [
    {
     "name": "stdout",
     "output_type": "stream",
     "text": [
      "[0 1 2 3 4]\n",
      "[5 6 7 8 9]\n",
      "[10 11 12 13 14]\n",
      "[15 16 17 18 19]\n",
      "0\n",
      "1\n",
      "2\n",
      "3\n",
      "4\n",
      "5\n",
      "6\n",
      "7\n",
      "8\n",
      "9\n",
      "10\n",
      "11\n",
      "12\n",
      "13\n",
      "14\n",
      "15\n",
      "16\n",
      "17\n",
      "18\n",
      "19\n",
      "[ 0  5 10 15]\n",
      "[ 1  6 11 16]\n",
      "[ 2  7 12 17]\n",
      "[ 3  8 13 18]\n",
      "[ 4  9 14 19]\n"
     ]
    },
    {
     "data": {
      "text/plain": [
       "False"
      ]
     },
     "execution_count": 70,
     "metadata": {},
     "output_type": "execute_result"
    }
   ],
   "source": [
    "a = np.arange(20).reshape(4,5)\n",
    "\n",
    "# iteration through each row\n",
    "for i in a:\n",
    "    print(i)\n",
    "\n",
    "# iteration through all te elements\n",
    "for j in a.flat:\n",
    "    print(j)\n",
    "# Iteration through each column\n",
    "for k in range(a.shape[1]):\n",
    "    print(a[:,k])"
   ]
  },
  {
   "cell_type": "markdown",
   "metadata": {},
   "source": [
    "## Combining arrays"
   ]
  },
  {
   "cell_type": "code",
   "execution_count": 59,
   "metadata": {},
   "outputs": [
    {
     "name": "stdout",
     "output_type": "stream",
     "text": [
      "[[ 0  1  2  3  4]\n",
      " [ 5  6  7  8  9]\n",
      " [10 11 12 13 14]\n",
      " [15 16 17 18 19]]\n",
      "[[ 0  1  2  3  4 10 11 12 13 14]\n",
      " [ 5  6  7  8  9 15 16 17 18 19]]\n"
     ]
    }
   ],
   "source": [
    "a = np.arange(0,10,1).reshape((2,5))\n",
    "b = np.arange(10,20,1).reshape((2,5))\n",
    "\n",
    "# adding rows of a & b (vertical stacking)\n",
    "c = np.vstack([a,b])\n",
    "print(c)\n",
    "\n",
    "# adding columns of a & b (horizontal stacking)\n",
    "d = np.hstack([a,b])\n",
    "print(d)"
   ]
  },
  {
   "cell_type": "markdown",
   "metadata": {},
   "source": [
    "## Splitting of an array"
   ]
  },
  {
   "cell_type": "code",
   "execution_count": 48,
   "metadata": {
    "collapsed": true
   },
   "outputs": [],
   "source": [
    "a = np.arange(20).reshape(2,10)\n",
    "\n",
    "# split a into 2 horizontly\n",
    "b,c = np.hsplit(a,2)\n",
    "\n",
    "# Spliting by specing the column number\n",
    "d,e,f = np.hsplit(a,(4,6))\n",
    "\n",
    "# split a into 2 vertically\n",
    "g,h = np.vsplit(a,2)\n"
   ]
  },
  {
   "cell_type": "markdown",
   "metadata": {},
   "source": [
    "## Copie & View"
   ]
  },
  {
   "cell_type": "code",
   "execution_count": null,
   "metadata": {
    "collapsed": true
   },
   "outputs": [],
   "source": [
    "a = np.array([1,2,3])\n",
    "\n",
    "b = a  # No new object is created a & b are two names of a same array\n",
    "\n",
    "# Different array objects can share the same data. The view method creates a new array object that looks at the same data.\n",
    "c = a.view()\n",
    "\n",
    "# The copy method makes a complete copy of the array and its data.\n",
    "d = a.copy()\n",
    "\n"
   ]
  },
  {
   "cell_type": "markdown",
   "metadata": {},
   "source": [
    "## Indexing"
   ]
  },
  {
   "cell_type": "code",
   "execution_count": 6,
   "metadata": {},
   "outputs": [
    {
     "data": {
      "text/plain": [
       "array([[ 1,  9, 25, 49],\n",
       "       [ 4, 16, 36, 64]], dtype=int32)"
      ]
     },
     "execution_count": 6,
     "metadata": {},
     "output_type": "execute_result"
    }
   ],
   "source": [
    "a = np.arange(10)**2  # array of the squars of digits 0 to 9 \n",
    "b = np.array([3,5,7]) \n",
    "c = a[b]\n",
    "d = np.array([(1,3,5,7),(2,4,6,8)])\n",
    "e = a[d]\n",
    "e"
   ]
  },
  {
   "cell_type": "code",
   "execution_count": 64,
   "metadata": {},
   "outputs": [
    {
     "data": {
      "text/plain": [
       "2"
      ]
     },
     "execution_count": 64,
     "metadata": {},
     "output_type": "execute_result"
    }
   ],
   "source": [
    "a = np.arange(9).reshape(3,3)\n",
    "b = a[0,2]\n",
    "b\n",
    "c = a[0][2]    # a[x,y] = a[x][y]\n",
    "c"
   ]
  },
  {
   "cell_type": "code",
   "execution_count": 55,
   "metadata": {},
   "outputs": [
    {
     "data": {
      "text/plain": [
       "array([0, 2, 1, 3, 0])"
      ]
     },
     "execution_count": 55,
     "metadata": {},
     "output_type": "execute_result"
    }
   ],
   "source": [
    "a = np.arange(5)\n",
    "a[[0,2,4]] = 0    # updating the values in an array\n",
    "\n",
    "a[[1,1,2]] += 1   # add 1 to the specified locations and they are updated only once\n",
    "\n",
    "a"
   ]
  },
  {
   "cell_type": "markdown",
   "metadata": {},
   "source": [
    "## Boolean Array"
   ]
  },
  {
   "cell_type": "code",
   "execution_count": 57,
   "metadata": {},
   "outputs": [
    {
     "name": "stdout",
     "output_type": "stream",
     "text": [
      "[[ True  True  True  True]\n",
      " [ True  True  True  True]\n",
      " [ True False False False]\n",
      " [False False False False]]\n"
     ]
    },
    {
     "data": {
      "text/plain": [
       "array([0, 1, 2, 3, 4, 5, 6, 7, 8])"
      ]
     },
     "execution_count": 57,
     "metadata": {},
     "output_type": "execute_result"
    }
   ],
   "source": [
    "a = np.arange(16).reshape(4,4)\n",
    "b = a < 9       # find the locations of a greater than 9\n",
    "print(b)\n",
    "c = a[b]\n",
    "c"
   ]
  },
  {
   "cell_type": "markdown",
   "metadata": {},
   "source": [
    "## Broadcasting"
   ]
  },
  {
   "cell_type": "markdown",
   "metadata": {},
   "source": [
    "A      (4d array):  8 x 1 x 6 x 1, \n",
    "B      (3d array):      7 x 1 x 5, \n",
    "Result (4d array):  8 x 7 x 6 x 5.\n"
   ]
  },
  {
   "cell_type": "code",
   "execution_count": 66,
   "metadata": {},
   "outputs": [
    {
     "data": {
      "text/plain": [
       "array([ 0,  2,  4,  6,  8, 10, 12, 14, 16, 18])"
      ]
     },
     "execution_count": 66,
     "metadata": {},
     "output_type": "execute_result"
    }
   ],
   "source": [
    "a = np.arange(10)\n",
    "b = 2             # in numpy smaller array are broadcasted to the larger array to match the size \n",
    "c = a * b\n",
    "c"
   ]
  },
  {
   "cell_type": "markdown",
   "metadata": {},
   "source": [
    "## Structured arrays"
   ]
  },
  {
   "cell_type": "code",
   "execution_count": 78,
   "metadata": {},
   "outputs": [
    {
     "name": "stdout",
     "output_type": "stream",
     "text": [
      "('Fido', 3,  27.)\n",
      "[ 81.  27.]\n"
     ]
    }
   ],
   "source": [
    "x = np.array([('Rex', 9, 81.0), ('Fido', 3, 27.0)],              \n",
    "             dtype=[('name', 'U10'), ('age', 'i4'), ('weight', 'f4')])\n",
    "a = x[1]\n",
    "print(a)\n",
    "b = x['weight']\n",
    "print(b)"
   ]
  },
  {
   "cell_type": "markdown",
   "metadata": {},
   "source": [
    "## Find indices of non-zero elements"
   ]
  },
  {
   "cell_type": "code",
   "execution_count": 79,
   "metadata": {},
   "outputs": [
    {
     "name": "stdout",
     "output_type": "stream",
     "text": [
      "(array([0, 1, 4], dtype=int64),)\n"
     ]
    }
   ],
   "source": [
    "a = np.nonzero([1,2,0,0,4,0])\n",
    "print(a)"
   ]
  },
  {
   "cell_type": "markdown",
   "metadata": {},
   "source": [
    "## Padding"
   ]
  },
  {
   "cell_type": "code",
   "execution_count": 81,
   "metadata": {},
   "outputs": [
    {
     "name": "stdout",
     "output_type": "stream",
     "text": [
      "[[ 0.  0.  0.  0.  0.  0.  0.]\n",
      " [ 0.  1.  1.  1.  1.  1.  0.]\n",
      " [ 0.  1.  1.  1.  1.  1.  0.]\n",
      " [ 0.  1.  1.  1.  1.  1.  0.]\n",
      " [ 0.  1.  1.  1.  1.  1.  0.]\n",
      " [ 0.  1.  1.  1.  1.  1.  0.]\n",
      " [ 0.  0.  0.  0.  0.  0.  0.]]\n"
     ]
    }
   ],
   "source": [
    "Z = np.ones((5,5))\n",
    "Z = np.pad(Z, pad_width=1, mode='constant', constant_values=0)\n",
    "print(Z)"
   ]
  },
  {
   "cell_type": "markdown",
   "metadata": {},
   "source": [
    "## numpy.nan"
   ]
  },
  {
   "cell_type": "code",
   "execution_count": 82,
   "metadata": {},
   "outputs": [
    {
     "name": "stdout",
     "output_type": "stream",
     "text": [
      "nan\n",
      "False\n",
      "False\n",
      "nan\n",
      "False\n"
     ]
    }
   ],
   "source": [
    "print(0 * np.nan)\n",
    "print(np.nan == np.nan)\n",
    "print(np.inf > np.nan)\n",
    "print(np.nan - np.nan)"
   ]
  },
  {
   "cell_type": "markdown",
   "metadata": {},
   "source": [
    "## finding common values between two arrays"
   ]
  },
  {
   "cell_type": "code",
   "execution_count": 51,
   "metadata": {},
   "outputs": [
    {
     "name": "stdout",
     "output_type": "stream",
     "text": [
      "[0 1 3 7 8]\n",
      "[5 4 5 4 3 7 4 0 1 8] [7 7 3 0 7 6 7 8 1 6]\n",
      "[False False False False  True  True False  True  True  True]\n",
      "[ True  True  True  True False False  True False False False]\n",
      "[5 4 5 4 4]\n"
     ]
    }
   ],
   "source": [
    "a = np.random.randint(0,10,10)\n",
    "b = np.random.randint(0,10,10)\n",
    "c = np.intersect1d(a,b)\n",
    "print(c)\n",
    "print(a,b)\n",
    "\n",
    "# How to remove from one array those items that exist in another?\n",
    "d = np.isin(a,c)\n",
    "print(d)\n",
    "e = np.where(d == True,False,True)\n",
    "print(e)\n",
    "f = a[e]\n",
    "print(f)\n",
    "\n",
    "\n"
   ]
  },
  {
   "cell_type": "markdown",
   "metadata": {},
   "source": [
    "## Sorting"
   ]
  },
  {
   "cell_type": "code",
   "execution_count": 96,
   "metadata": {},
   "outputs": [
    {
     "data": {
      "text/plain": [
       "array([0, 1, 1, 2, 3, 4, 4, 5, 6, 7])"
      ]
     },
     "execution_count": 96,
     "metadata": {},
     "output_type": "execute_result"
    }
   ],
   "source": [
    "a = np.random.randint(0,10,10)\n",
    "a.sort()\n",
    "a"
   ]
  },
  {
   "cell_type": "markdown",
   "metadata": {},
   "source": [
    "## Checking if two arrays are equal or not"
   ]
  },
  {
   "cell_type": "code",
   "execution_count": 97,
   "metadata": {},
   "outputs": [
    {
     "data": {
      "text/plain": [
       "False"
      ]
     },
     "execution_count": 97,
     "metadata": {},
     "output_type": "execute_result"
    }
   ],
   "source": [
    "A = np.random.randint(0,10,5)\n",
    "B = np.random.randint(0,10,5)\n",
    "c = np.array_equal(a,b)\n",
    "c"
   ]
  },
  {
   "cell_type": "markdown",
   "metadata": {},
   "source": [
    "## Subtract the mean of each row of a matrix"
   ]
  },
  {
   "cell_type": "code",
   "execution_count": 102,
   "metadata": {},
   "outputs": [
    {
     "name": "stdout",
     "output_type": "stream",
     "text": [
      "[[ 1  5  6 13]\n",
      " [ 5  5  6  1]\n",
      " [11  9  0  1]\n",
      " [ 9  1 13  4]]\n",
      "[[ 6.25]\n",
      " [ 4.25]\n",
      " [ 5.25]\n",
      " [ 6.75]]\n",
      "[[-5.25 -1.25 -0.25  6.75]\n",
      " [ 0.75  0.75  1.75 -3.25]\n",
      " [ 5.75  3.75 -5.25 -4.25]\n",
      " [ 2.25 -5.75  6.25 -2.75]]\n"
     ]
    }
   ],
   "source": [
    "a = np.random.randint(0,16,16).reshape(4,4)\n",
    "b = a.mean(axis = 1,keepdims = True)\n",
    "c = a - b\n",
    "print(a)\n",
    "print(b)\n",
    "print(c)\n"
   ]
  },
  {
   "cell_type": "markdown",
   "metadata": {},
   "source": [
    "## sort an array by one of it's columns."
   ]
  },
  {
   "cell_type": "code",
   "execution_count": 29,
   "metadata": {},
   "outputs": [
    {
     "name": "stdout",
     "output_type": "stream",
     "text": [
      "[[6 8 3]\n",
      " [0 0 7]\n",
      " [2 3 6]]\n",
      "[[6 8 3]\n",
      " [2 3 6]\n",
      " [0 0 7]]\n"
     ]
    }
   ],
   "source": [
    "Z = np.random.randint(0,10,(3,3))\n",
    "print(Z)\n",
    "print(Z[Z[:,2].argsort()])  # Sorting through its 3rd column"
   ]
  },
  {
   "cell_type": "markdown",
   "metadata": {},
   "source": [
    "## Finding out odd numbers"
   ]
  },
  {
   "cell_type": "code",
   "execution_count": 40,
   "metadata": {},
   "outputs": [
    {
     "data": {
      "text/plain": [
       "array([1, 3, 5, 7, 9])"
      ]
     },
     "execution_count": 40,
     "metadata": {},
     "output_type": "execute_result"
    }
   ],
   "source": [
    "a = np.array([0, 1, 2, 3, 4, 5, 6, 7, 8, 9])\n",
    "b = np.where(a % 2 != 0)\n",
    "c = a[b]\n",
    "c"
   ]
  },
  {
   "cell_type": "markdown",
   "metadata": {},
   "source": [
    "## How to replace items that satisfy a condition with another value in numpy array?"
   ]
  },
  {
   "cell_type": "code",
   "execution_count": 44,
   "metadata": {},
   "outputs": [
    {
     "data": {
      "text/plain": [
       "array([ 0,  1,  0,  3,  0,  5,  0,  7,  0,  9,  0, 11,  0, 13,  0, 15,  0,\n",
       "       17,  0, 19,  0, 21,  0, 23,  0, 25,  0, 27,  0, 29])"
      ]
     },
     "execution_count": 44,
     "metadata": {},
     "output_type": "execute_result"
    }
   ],
   "source": [
    "a = np.arange(30)\n",
    "for i in range(len(a)):\n",
    "    if a[i] % 2 == 0:\n",
    "        a[i] = 0\n",
    "\n",
    "# Using np\n",
    "b = np.arange(30)\n",
    "b[b % 2 == 0] = 0\n",
    "b\n",
    "\n",
    "# or\n",
    "c = np.arange(30)\n",
    "d = np.where(c % 2 == 0, 0, c)\n",
    "d\n"
   ]
  },
  {
   "cell_type": "markdown",
   "metadata": {},
   "source": [
    "## How to print only n decimal places in python numpy array?"
   ]
  },
  {
   "cell_type": "code",
   "execution_count": 53,
   "metadata": {},
   "outputs": [
    {
     "data": {
      "text/plain": [
       "array([[ 0.86 ,  0.182,  0.231],\n",
       "       [ 0.38 ,  0.537,  0.688],\n",
       "       [ 0.471,  0.442,  0.843],\n",
       "       [ 0.305,  0.627,  0.017],\n",
       "       [ 0.49 ,  0.805,  0.954]])"
      ]
     },
     "execution_count": 53,
     "metadata": {},
     "output_type": "execute_result"
    }
   ],
   "source": [
    "a = np.random.random([5,3])\n",
    "np.set_printoptions(precision=3)\n",
    "a\n"
   ]
  },
  {
   "cell_type": "markdown",
   "metadata": {},
   "source": [
    "## Finding the nth percentile value"
   ]
  },
  {
   "cell_type": "code",
   "execution_count": 64,
   "metadata": {},
   "outputs": [
    {
     "name": "stdout",
     "output_type": "stream",
     "text": [
      "[ 0.019  0.024  0.038  0.062  0.073  0.087  0.09   0.094  0.094  0.101\n",
      "  0.106  0.112  0.117  0.128  0.141  0.155  0.16   0.164  0.164  0.181\n",
      "  0.186  0.244  0.247  0.247  0.248  0.249  0.249  0.262  0.267  0.268\n",
      "  0.27   0.275  0.277  0.285  0.291  0.309  0.318  0.32   0.329  0.339\n",
      "  0.34   0.354  0.372  0.396  0.396  0.416  0.417  0.427  0.467  0.479\n",
      "  0.491  0.492  0.542  0.543  0.555  0.584  0.587  0.619  0.631  0.635\n",
      "  0.657  0.668  0.697  0.699  0.713  0.716  0.722  0.729  0.736  0.754\n",
      "  0.756  0.778  0.782  0.784  0.786  0.787  0.793  0.795  0.808  0.819\n",
      "  0.819  0.822  0.832  0.86   0.869  0.872  0.873  0.876  0.883  0.884\n",
      "  0.888  0.905  0.907  0.91   0.913  0.959  0.986  0.989  0.994  0.999]\n"
     ]
    },
    {
     "data": {
      "text/plain": [
       "0.10113521914360357"
      ]
     },
     "execution_count": 64,
     "metadata": {},
     "output_type": "execute_result"
    }
   ],
   "source": [
    "a = np.random.random(100)\n",
    "a.sort()\n",
    "percentile = 10\n",
    "length = len(a)\n",
    "index =((np.rint((length*percentile)/100))-1)\n",
    "print(a)\n",
    "a[int(index)]"
   ]
  },
  {
   "cell_type": "markdown",
   "metadata": {},
   "source": [
    "a = np.arange(16).reshape(4,4)\n",
    "print(a)\n",
    "b = a[:,3]\n",
    "b.reshape(4,1)\n",
    "c= np.append(a,b,0)\n",
    "c"
   ]
  },
  {
   "cell_type": "markdown",
   "metadata": {},
   "source": [
    "## What is the value of second longest petallength of species setosa"
   ]
  },
  {
   "cell_type": "code",
   "execution_count": 17,
   "metadata": {},
   "outputs": [
    {
     "data": {
      "text/plain": [
       "array([b'5.1', b'3.8', b'1.9', b'0.4', b'Iris-setosa'], dtype=object)"
      ]
     },
     "execution_count": 17,
     "metadata": {},
     "output_type": "execute_result"
    }
   ],
   "source": [
    "url = 'https://archive.ics.uci.edu/ml/machine-learning-databases/iris/iris.data'\n",
    "iris = np.genfromtxt(url, delimiter=',', dtype='object')\n",
    "#names = ('sepallength', 'sepalwidth', 'petallength', 'petalwidth', 'species')\n",
    "\n",
    "setosa = iris[iris[:,4] == b'Iris-setosa']\n",
    "setosa[setosa[:,2].argsort()][-2]\n"
   ]
  },
  {
   "cell_type": "markdown",
   "metadata": {},
   "source": [
    "## Find the most frequent value of petal length in iris dataset"
   ]
  },
  {
   "cell_type": "code",
   "execution_count": 45,
   "metadata": {},
   "outputs": [
    {
     "data": {
      "text/plain": [
       "b'1.5'"
      ]
     },
     "execution_count": 45,
     "metadata": {},
     "output_type": "execute_result"
    }
   ],
   "source": [
    "uq,ct=np.unique(iris[:,2], return_counts = True)\n",
    "uq[ct.argsort()[-1]]"
   ]
  },
  {
   "cell_type": "markdown",
   "metadata": {},
   "source": [
    "## How to convert a numeric to a categorical (text) array\n",
    "Less than 3 --> 'small'\n",
    "3-5 --> 'medium'\n",
    "'>=5 --> 'large'                                                  \n",
    "Bin the petal length "
   ]
  },
  {
   "cell_type": "code",
   "execution_count": 118,
   "metadata": {
    "collapsed": true
   },
   "outputs": [],
   "source": [
    "iris1 = iris.copy()\n",
    "iris1[:,2]=iris1[:, 2].astype('float')\n",
    "for i in range(iris.shape[0]):\n",
    "    if iris1[i,2] < 3.0:\n",
    "        iris1[i,2] = 'Small'\n",
    "    elif (iris1[i,2] >= 3.0)&(iris1[i,2] < 5.0):\n",
    "        iris1[i,2] = 'medium'\n",
    "    elif iris1[i,2] >= 5:\n",
    "        iris1[i,2] = 'Large'\n",
    "        \n",
    "# method 2\n",
    "\n",
    "a = np.digitize(iris[:,2].astype('float'),[0,3,5,10])\n",
    "labels = {1: 'small', 2: 'medium', 3: 'large'}\n",
    "for j in range(iris.shape[0]):\n",
    "    iris[j,2] = labels.get(a[j])  "
   ]
  },
  {
   "cell_type": "markdown",
   "metadata": {},
   "source": [
    "## Create a new column for volume in iris_2d, where volume is (pi x petallength x sepal_length^2)/3"
   ]
  },
  {
   "cell_type": "code",
   "execution_count": 139,
   "metadata": {},
   "outputs": [
    {
     "data": {
      "text/plain": [
       "(150, 6)"
      ]
     },
     "execution_count": 139,
     "metadata": {},
     "output_type": "execute_result"
    }
   ],
   "source": [
    "a =( np.pi * iris[:,2].astype('float') * iris[:,0].astype('float')**2 ) / 3\n",
    "a = a.reshape(150,1)\n",
    "b = np.append(iris,a.reshape(150,1),1)\n",
    "b.shape"
   ]
  },
  {
   "cell_type": "markdown",
   "metadata": {},
   "source": [
    "## How to find the position of the first occurrence of a value greater than a given value?"
   ]
  },
  {
   "cell_type": "code",
   "execution_count": 22,
   "metadata": {},
   "outputs": [
    {
     "data": {
      "text/plain": [
       "array([1.4], dtype=object)"
      ]
     },
     "execution_count": 22,
     "metadata": {},
     "output_type": "execute_result"
    }
   ],
   "source": [
    "iris2 = iris\n",
    "iris2[:,3]=iris2[:,3].astype('float')\n",
    "a = np.array(np.where(iris2[:,3] > 1))\n",
    "iris2[a[:,0],3]\n",
    "\n",
    "# method 2\n",
    "iris2[np.argwhere(iris2[:,3] > 1)[0], 3 ]     "
   ]
  },
  {
   "cell_type": "markdown",
   "metadata": {},
   "source": [
    "## From the array a, replace all values greater than 30 to 30 and less than 10 to 10."
   ]
  },
  {
   "cell_type": "code",
   "execution_count": 30,
   "metadata": {},
   "outputs": [
    {
     "data": {
      "text/plain": [
       "array([30, 30, 10, 12, 30, 22, 30, 10, 30, 30, 23, 30, 30, 30, 30, 30, 30,\n",
       "       30, 30, 10, 29, 14, 30, 30, 30, 30, 15, 30, 16, 22, 28, 29, 30, 30,\n",
       "       30, 23, 30, 30, 28, 30, 30, 30, 30, 30, 30, 15, 23, 30, 30, 30])"
      ]
     },
     "execution_count": 30,
     "metadata": {},
     "output_type": "execute_result"
    }
   ],
   "source": [
    "a = np.random.randint(1,100,50)\n",
    "b = np.where(a < 10, 10, np.where(a > 30, 30, a) )\n",
    "b\n",
    "\n",
    "# method 2\n",
    "np.clip(a, a_min = 10, a_max = 30)\n"
   ]
  },
  {
   "cell_type": "markdown",
   "metadata": {},
   "source": [
    "## Get the positions of top 5 unique maximum values in a given array a"
   ]
  },
  {
   "cell_type": "code",
   "execution_count": 73,
   "metadata": {
    "scrolled": true
   },
   "outputs": [
    {
     "name": "stdout",
     "output_type": "stream",
     "text": [
      "[ 9 25  4 40 24 16 49 11 31 35  3 35 15 35 49 25 16 37 44 17]\n"
     ]
    }
   ],
   "source": [
    "np.random.seed(100)\n",
    "a = np.random.randint(1,50,20)\n",
    "b =np.unique(a).reshape(1,15)\n",
    "np.where(np.isin(a,b[0,-5:]))\n",
    "print(a)"
   ]
  },
  {
   "cell_type": "markdown",
   "metadata": {
    "collapsed": true
   },
   "source": [
    "## **Compute the counts of unique values row-wise."
   ]
  },
  {
   "cell_type": "code",
   "execution_count": 133,
   "metadata": {},
   "outputs": [
    {
     "data": {
      "text/plain": [
       "<generator object <genexpr> at 0x0000026A07C12518>"
      ]
     },
     "execution_count": 133,
     "metadata": {},
     "output_type": "execute_result"
    }
   ],
   "source": [
    "np.random.seed(100)\n",
    "a = np.random.randint(1,11,size = (6, 10))\n",
    "counter = np.zeros(a.shape, dtype = 'int')\n",
    "b = [np.unique(row, return_counts = True) for row in a]\n",
    "x = ([c[d == i] if i in a else 0 for i in np.unique(a)] for c , d in b) \n",
    "\n",
    "x\n"
   ]
  },
  {
   "cell_type": "markdown",
   "metadata": {},
   "source": [
    "## one-hot encodings for an array in numpy"
   ]
  },
  {
   "cell_type": "code",
   "execution_count": 121,
   "metadata": {},
   "outputs": [
    {
     "name": "stdout",
     "output_type": "stream",
     "text": [
      "[3 2 1 4 1 4 3 4 4 3] [1 2 3 4] [[ 0.  0.  1.  0.]\n",
      " [ 0.  1.  0.  0.]\n",
      " [ 1.  0.  0.  0.]\n",
      " [ 0.  0.  0.  1.]\n",
      " [ 1.  0.  0.  0.]\n",
      " [ 0.  0.  0.  1.]\n",
      " [ 0.  0.  1.  0.]\n",
      " [ 0.  0.  0.  1.]\n",
      " [ 0.  0.  0.  1.]\n",
      " [ 0.  0.  1.  0.]]\n"
     ]
    }
   ],
   "source": [
    "a = np.random.randint(1,5,10)\n",
    "b = np.unique(a)\n",
    "c = np.zeros((len(a),len(b)))\n",
    "for i, j in enumerate(a):\n",
    "    c[i,j-1] = 1\n",
    "\n",
    "print(a,b,c)"
   ]
  },
  {
   "cell_type": "markdown",
   "metadata": {},
   "source": [
    "## Create row numbers grouped by a categorical variable."
   ]
  },
  {
   "cell_type": "code",
   "execution_count": 152,
   "metadata": {},
   "outputs": [
    {
     "name": "stdout",
     "output_type": "stream",
     "text": [
      "['Iris-setosa' 'Iris-setosa' 'Iris-setosa' 'Iris-setosa' 'Iris-setosa'\n",
      " 'Iris-setosa' 'Iris-versicolor' 'Iris-versicolor' 'Iris-versicolor'\n",
      " 'Iris-versicolor' 'Iris-versicolor' 'Iris-versicolor' 'Iris-versicolor'\n",
      " 'Iris-versicolor' 'Iris-virginica' 'Iris-virginica' 'Iris-virginica'\n",
      " 'Iris-virginica' 'Iris-virginica' 'Iris-virginica'] [0 1 2 3 4 5 0 1 2 3 4 5 6 7 0 1 2 3 4 5]\n"
     ]
    }
   ],
   "source": [
    "url = 'https://archive.ics.uci.edu/ml/machine-learning-databases/iris/iris.data'\n",
    "species = np.genfromtxt(url, delimiter=',', dtype='str', usecols=4)\n",
    "a = np.sort(np.random.choice(species, size=20))\n",
    "b =np.array([0])\n",
    "x = 0\n",
    "for i in range(len(a)-1):\n",
    "    if a[i] == a[i+1]:\n",
    "        x += 1\n",
    "        b = np.append(b,x)\n",
    "    else:\n",
    "        x = 0\n",
    "        b = np.append(b,x)\n",
    "print(a,b) \n",
    "    "
   ]
  },
  {
   "cell_type": "markdown",
   "metadata": {
    "collapsed": true
   },
   "source": [
    "## Compute the min-by-max for each row for given 2d numpy array."
   ]
  },
  {
   "cell_type": "code",
   "execution_count": 2,
   "metadata": {},
   "outputs": [
    {
     "data": {
      "text/plain": [
       "array([ 0.        ,  0.55555556,  0.71428571,  0.78947368])"
      ]
     },
     "execution_count": 2,
     "metadata": {},
     "output_type": "execute_result"
    }
   ],
   "source": [
    "a = np.arange(20).reshape(4,5)\n",
    "\n",
    "np.apply_along_axis(lambda x: np.min(x)/np.max(x), 1, a )"
   ]
  },
  {
   "cell_type": "markdown",
   "metadata": {},
   "source": [
    "## How to find the duplicate records in a numpy array"
   ]
  },
  {
   "cell_type": "code",
   "execution_count": 16,
   "metadata": {},
   "outputs": [
    {
     "name": "stdout",
     "output_type": "stream",
     "text": [
      "[ 3  1 19  6 11  8 11  6 12  7  2  7 14  7  4  3  7 18  5 13] [False False False False False False  True  True False False False  True\n",
      " False  True False  True  True False False False]\n"
     ]
    }
   ],
   "source": [
    "a = np.random.randint(1,20,20)\n",
    "b,c = np.unique(a, return_index = True)\n",
    "d = np.full(a.shape[0],True)\n",
    "d[c] = False\n",
    "print(a,d)"
   ]
  },
  {
   "cell_type": "markdown",
   "metadata": {},
   "source": [
    "## Find the mean of a numeric column grouped by a categorical column in a 2D numpy array"
   ]
  },
  {
   "cell_type": "code",
   "execution_count": 33,
   "metadata": {},
   "outputs": [
    {
     "data": {
      "text/plain": [
       "array([b'Iris-setosa', b'5.006', b'Iris-versicolor', b'5.936',\n",
       "       b'Iris-virginica', b'6.588'],\n",
       "      dtype='|S32')"
      ]
     },
     "execution_count": 33,
     "metadata": {},
     "output_type": "execute_result"
    }
   ],
   "source": [
    "c = np.array([])\n",
    "for i in np.unique(iris[:,4]):\n",
    "    b = np.mean(iris[np.where(iris[:,4] == i),0].astype('float'))\n",
    "    c = np.append(c,[i,b],axis = 0)"
   ]
  },
  {
   "cell_type": "markdown",
   "metadata": {},
   "source": [
    "## How to drop all missing values from a numpy array\n",
    "Input : np.array([1,2,3,np.nan,5,6,7,np.nan])                              output : array([ 1.,  2.,  3.,  5.,  6.,  7.])"
   ]
  },
  {
   "cell_type": "code",
   "execution_count": 37,
   "metadata": {},
   "outputs": [
    {
     "data": {
      "text/plain": [
       "array([ 1.,  2.,  3.,  5.,  6.,  7.])"
      ]
     },
     "execution_count": 37,
     "metadata": {},
     "output_type": "execute_result"
    }
   ],
   "source": [
    "a = np.array([1,2,3,np.nan,5,6,7,np.nan])\n",
    "a[~np.isnan(a)]"
   ]
  },
  {
   "cell_type": "markdown",
   "metadata": {},
   "source": [
    "## Compute the euclidean distance between two arrays a and b."
   ]
  },
  {
   "cell_type": "code",
   "execution_count": 45,
   "metadata": {},
   "outputs": [
    {
     "data": {
      "text/plain": [
       "6.7082039324993694"
      ]
     },
     "execution_count": 45,
     "metadata": {},
     "output_type": "execute_result"
    }
   ],
   "source": [
    "a = np.array([1,2,3,4,5])\n",
    "b = np.array([4,5,6,7,8])\n",
    "c = np.sqrt(((a-b)**2).sum())\n",
    "c"
   ]
  },
  {
   "cell_type": "markdown",
   "metadata": {},
   "source": [
    "## Find all the peaks in a 1D numpy array a. Peaks are points surrounded by smaller values on both sides."
   ]
  },
  {
   "cell_type": "code",
   "execution_count": 65,
   "metadata": {},
   "outputs": [
    {
     "data": {
      "text/plain": [
       "array([2, 5], dtype=int64)"
      ]
     },
     "execution_count": 65,
     "metadata": {},
     "output_type": "execute_result"
    }
   ],
   "source": [
    "a = np.array([1, 3, 7, 1, 2, 6, 0, 1])\n",
    "c = np.array([])\n",
    "for i in range(1,len(a)-1):\n",
    "    if (a[i]-a[i-1] > 0) and (a[i]-a[i+1] > 0):\n",
    "        c = np.append(c,[i],axis=0)\n",
    "\n",
    "#method2:\n",
    "d = np.diff(np.sign(np.diff(a)))\n",
    "np.where(d == -2)[0] + 1"
   ]
  },
  {
   "cell_type": "markdown",
   "metadata": {},
   "source": [
    "## Find the index of 5th repetition of number 1 in x"
   ]
  },
  {
   "cell_type": "code",
   "execution_count": 73,
   "metadata": {},
   "outputs": [
    {
     "data": {
      "text/plain": [
       "8"
      ]
     },
     "execution_count": 73,
     "metadata": {},
     "output_type": "execute_result"
    }
   ],
   "source": [
    "a = np.array([1, 2, 1, 1, 3, 4, 3, 1, 1, 2, 1, 1, 2])\n",
    "np.where(a == 1)[0][4]"
   ]
  },
  {
   "cell_type": "markdown",
   "metadata": {},
   "source": [
    "## Compute the moving average of window size 3, for the given 1D array"
   ]
  },
  {
   "cell_type": "code",
   "execution_count": 95,
   "metadata": {},
   "outputs": [
    {
     "data": {
      "text/plain": [
       "(6,)"
      ]
     },
     "execution_count": 95,
     "metadata": {},
     "output_type": "execute_result"
    }
   ],
   "source": [
    "np.random.seed(100)\n",
    "n = 3\n",
    "a = np.random.randint(10, size=10)\n",
    "c = np.array([])\n",
    "for i in range(len(a)-n-1):\n",
    "    c=np.append(c,[a[i:(i+n)].mean().round(2)], axis = 0)\n",
    "c"
   ]
  },
  {
   "cell_type": "markdown",
   "metadata": {},
   "source": [
    "##     ******From the given 1d array arr, generate a 2d matrix using strides, with a window length of 4 and strides of 2, like [[0,1,2,3], [2,3,4,5], [4,5,6,7]..]"
   ]
  },
  {
   "cell_type": "code",
   "execution_count": 86,
   "metadata": {},
   "outputs": [
    {
     "ename": "TypeError",
     "evalue": "'shape' is an invalid keyword argument for this function",
     "output_type": "error",
     "traceback": [
      "\u001b[1;31m---------------------------------------------------------------------------\u001b[0m",
      "\u001b[1;31mTypeError\u001b[0m                                 Traceback (most recent call last)",
      "\u001b[1;32m<ipython-input-86-b06c3169d3f3>\u001b[0m in \u001b[0;36m<module>\u001b[1;34m()\u001b[0m\n\u001b[0;32m      2\u001b[0m \u001b[0mwl\u001b[0m \u001b[1;33m=\u001b[0m \u001b[1;36m4\u001b[0m\u001b[1;33m\u001b[0m\u001b[0m\n\u001b[0;32m      3\u001b[0m \u001b[0ms\u001b[0m \u001b[1;33m=\u001b[0m \u001b[1;36m2\u001b[0m\u001b[1;33m\u001b[0m\u001b[0m\n\u001b[1;32m----> 4\u001b[1;33m \u001b[0mc\u001b[0m \u001b[1;33m=\u001b[0m \u001b[0mnp\u001b[0m\u001b[1;33m.\u001b[0m\u001b[0marray\u001b[0m\u001b[1;33m(\u001b[0m\u001b[1;33m[\u001b[0m\u001b[1;33m]\u001b[0m\u001b[1;33m,\u001b[0m\u001b[0mshape\u001b[0m\u001b[1;33m=\u001b[0m\u001b[1;33m(\u001b[0m\u001b[1;36m0\u001b[0m\u001b[1;33m,\u001b[0m\u001b[0mwl\u001b[0m\u001b[1;33m)\u001b[0m\u001b[1;33m)\u001b[0m\u001b[1;33m\u001b[0m\u001b[0m\n\u001b[0m\u001b[0;32m      5\u001b[0m \u001b[1;32mfor\u001b[0m \u001b[0mi\u001b[0m \u001b[1;32min\u001b[0m \u001b[0mrange\u001b[0m\u001b[1;33m(\u001b[0m\u001b[0mnp\u001b[0m\u001b[1;33m.\u001b[0m\u001b[0mfloor\u001b[0m\u001b[1;33m(\u001b[0m\u001b[1;33m(\u001b[0m\u001b[0mlen\u001b[0m\u001b[1;33m(\u001b[0m\u001b[0ma\u001b[0m\u001b[1;33m)\u001b[0m\u001b[1;33m-\u001b[0m\u001b[0mwl\u001b[0m\u001b[1;33m)\u001b[0m\u001b[1;33m/\u001b[0m\u001b[0ms\u001b[0m\u001b[1;33m)\u001b[0m\u001b[1;33m.\u001b[0m\u001b[0mastype\u001b[0m\u001b[1;33m(\u001b[0m\u001b[1;34m'int'\u001b[0m\u001b[1;33m)\u001b[0m\u001b[1;33m)\u001b[0m\u001b[1;33m:\u001b[0m\u001b[1;33m\u001b[0m\u001b[0m\n\u001b[0;32m      6\u001b[0m     \u001b[0mc\u001b[0m \u001b[1;33m=\u001b[0m \u001b[0mnp\u001b[0m\u001b[1;33m.\u001b[0m\u001b[0mappend\u001b[0m\u001b[1;33m(\u001b[0m\u001b[0mc\u001b[0m\u001b[1;33m,\u001b[0m\u001b[1;33m[\u001b[0m\u001b[0ma\u001b[0m\u001b[1;33m[\u001b[0m\u001b[0mi\u001b[0m\u001b[1;33m*\u001b[0m\u001b[0ms\u001b[0m\u001b[1;33m:\u001b[0m\u001b[1;33m(\u001b[0m\u001b[0mi\u001b[0m\u001b[1;33m*\u001b[0m\u001b[0ms\u001b[0m\u001b[1;33m+\u001b[0m\u001b[0mwl\u001b[0m\u001b[1;33m)\u001b[0m\u001b[1;33m]\u001b[0m\u001b[1;33m]\u001b[0m\u001b[1;33m,\u001b[0m \u001b[0maxis\u001b[0m \u001b[1;33m=\u001b[0m \u001b[1;36m0\u001b[0m\u001b[1;33m)\u001b[0m\u001b[1;33m\u001b[0m\u001b[0m\n",
      "\u001b[1;31mTypeError\u001b[0m: 'shape' is an invalid keyword argument for this function"
     ]
    }
   ],
   "source": [
    "a = np.arange(20)\n",
    "wl = 4\n",
    "s = 2\n",
    "c = np.array([],shape=(0,wl))\n",
    "for i in range(np.floor((len(a)-wl)/s).astype('int')):\n",
    "    c = np.append(c,[a[i*s:(i*s+wl)]], axis = 0)\n",
    "c"
   ]
  },
  {
   "cell_type": "markdown",
   "metadata": {},
   "source": [
    "## How to import and export data as a csv file"
   ]
  },
  {
   "cell_type": "code",
   "execution_count": 161,
   "metadata": {},
   "outputs": [
    {
     "data": {
      "text/plain": [
       "array([  1.80000000e+01,   8.00000000e+00,   3.07000000e+02,\n",
       "         1.30000000e+02,   3.50400000e+03,   1.20000000e+01,\n",
       "         7.00000000e+01,   1.00000000e+00,  -9.99000000e+02])"
      ]
     },
     "execution_count": 161,
     "metadata": {},
     "output_type": "execute_result"
    }
   ],
   "source": [
    "path = 'https://raw.githubusercontent.com/selva86/datasets/master/Auto.csv'\n",
    "data = np.genfromtxt(path, delimiter=',', skip_header=1, filling_values=-999, dtype='float')"
   ]
  },
  {
   "cell_type": "markdown",
   "metadata": {},
   "source": [
    "## How to save and load numpy objects"
   ]
  },
  {
   "cell_type": "code",
   "execution_count": 170,
   "metadata": {},
   "outputs": [
    {
     "data": {
      "text/plain": [
       "<numpy.lib.npyio.NpzFile at 0x1b887819978>"
      ]
     },
     "execution_count": 170,
     "metadata": {},
     "output_type": "execute_result"
    }
   ],
   "source": [
    "a = np.arange(10)\n",
    "b = np.arange(30)\n",
    "np.save('a.npy',a)    # saving a in a.npy\n",
    "np.savez('a_b.npz', a, b)\n",
    "c = np.load('a.npy')\n",
    "d = np.load('a_b.npz')\n",
    "d"
   ]
  },
  {
   "cell_type": "code",
   "execution_count": null,
   "metadata": {
    "collapsed": true
   },
   "outputs": [],
   "source": []
  }
 ],
 "metadata": {
  "kernelspec": {
   "display_name": "Python 3",
   "language": "python",
   "name": "python3"
  },
  "language_info": {
   "codemirror_mode": {
    "name": "ipython",
    "version": 3
   },
   "file_extension": ".py",
   "mimetype": "text/x-python",
   "name": "python",
   "nbconvert_exporter": "python",
   "pygments_lexer": "ipython3",
   "version": "3.6.3"
  }
 },
 "nbformat": 4,
 "nbformat_minor": 2
}
