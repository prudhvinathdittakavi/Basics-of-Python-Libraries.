{
 "cells": [
  {
   "cell_type": "code",
   "execution_count": 1,
   "metadata": {},
   "outputs": [],
   "source": [
    "import requests"
   ]
  },
  {
   "cell_type": "code",
   "execution_count": 2,
   "metadata": {},
   "outputs": [
    {
     "data": {
      "text/plain": [
       "<Response [200]>"
      ]
     },
     "execution_count": 2,
     "metadata": {},
     "output_type": "execute_result"
    }
   ],
   "source": [
    "# Get Request\n",
    "\n",
    "requests.get('https://api.github.com')"
   ]
  },
  {
   "cell_type": "code",
   "execution_count": 3,
   "metadata": {},
   "outputs": [
    {
     "data": {
      "text/plain": [
       "<Response [200]>"
      ]
     },
     "execution_count": 3,
     "metadata": {},
     "output_type": "execute_result"
    }
   ],
   "source": [
    "response = requests.get('https://api.github.com')"
   ]
  },
  {
   "cell_type": "code",
   "execution_count": 4,
   "metadata": {},
   "outputs": [
    {
     "data": {
      "text/plain": [
       "200"
      ]
     },
     "execution_count": 4,
     "metadata": {},
     "output_type": "execute_result"
    }
   ],
   "source": [
    "# Status Codes\n",
    "# 200 - successful\n",
    "# 404 - not found\n",
    "\n",
    "response.status_code"
   ]
  },
  {
   "cell_type": "code",
   "execution_count": 5,
   "metadata": {},
   "outputs": [
    {
     "name": "stdout",
     "output_type": "stream",
     "text": [
      "Success!\n"
     ]
    }
   ],
   "source": [
    "# this checks if a response is success or not\n",
    "if response.status_code == 200:\n",
    "    print('Success!')\n",
    "elif response.status_code == 404:\n",
    "    print('Not Found.')"
   ]
  },
  {
   "cell_type": "code",
   "execution_count": 6,
   "metadata": {},
   "outputs": [
    {
     "name": "stdout",
     "output_type": "stream",
     "text": [
      "Success!\n"
     ]
    }
   ],
   "source": [
    "# response is True if it is between 200 and 400 otherwise False\n",
    "\n",
    "if response:\n",
    "    print('Success!')\n",
    "else:\n",
    "    print('An error has occurred.')"
   ]
  },
  {
   "cell_type": "code",
   "execution_count": 7,
   "metadata": {
    "scrolled": true
   },
   "outputs": [
    {
     "data": {
      "text/plain": [
       "b'{\"current_user_url\":\"https://api.github.com/user\",\"current_user_authorizations_html_url\":\"https://github.com/settings/connections/applications{/client_id}\",\"authorizations_url\":\"https://api.github.com/authorizations\",\"code_search_url\":\"https://api.github.com/search/code?q={query}{&page,per_page,sort,order}\",\"commit_search_url\":\"https://api.github.com/search/commits?q={query}{&page,per_page,sort,order}\",\"emails_url\":\"https://api.github.com/user/emails\",\"emojis_url\":\"https://api.github.com/emojis\",\"events_url\":\"https://api.github.com/events\",\"feeds_url\":\"https://api.github.com/feeds\",\"followers_url\":\"https://api.github.com/user/followers\",\"following_url\":\"https://api.github.com/user/following{/target}\",\"gists_url\":\"https://api.github.com/gists{/gist_id}\",\"hub_url\":\"https://api.github.com/hub\",\"issue_search_url\":\"https://api.github.com/search/issues?q={query}{&page,per_page,sort,order}\",\"issues_url\":\"https://api.github.com/issues\",\"keys_url\":\"https://api.github.com/user/keys\",\"notifications_url\":\"https://api.github.com/notifications\",\"organization_repositories_url\":\"https://api.github.com/orgs/{org}/repos{?type,page,per_page,sort}\",\"organization_url\":\"https://api.github.com/orgs/{org}\",\"public_gists_url\":\"https://api.github.com/gists/public\",\"rate_limit_url\":\"https://api.github.com/rate_limit\",\"repository_url\":\"https://api.github.com/repos/{owner}/{repo}\",\"repository_search_url\":\"https://api.github.com/search/repositories?q={query}{&page,per_page,sort,order}\",\"current_user_repositories_url\":\"https://api.github.com/user/repos{?type,page,per_page,sort}\",\"starred_url\":\"https://api.github.com/user/starred{/owner}{/repo}\",\"starred_gists_url\":\"https://api.github.com/gists/starred\",\"team_url\":\"https://api.github.com/teams\",\"user_url\":\"https://api.github.com/users/{user}\",\"user_organizations_url\":\"https://api.github.com/user/orgs\",\"user_repositories_url\":\"https://api.github.com/users/{user}/repos{?type,page,per_page,sort}\",\"user_search_url\":\"https://api.github.com/search/users?q={query}{&page,per_page,sort,order}\"}'"
      ]
     },
     "execution_count": 7,
     "metadata": {},
     "output_type": "execute_result"
    }
   ],
   "source": [
    "# Content gives the paylode in the form of bytes\n",
    "\n",
    "response.content"
   ]
  },
  {
   "cell_type": "code",
   "execution_count": 10,
   "metadata": {
    "scrolled": true
   },
   "outputs": [
    {
     "data": {
      "text/plain": [
       "{'current_user_url': 'https://api.github.com/user',\n",
       " 'current_user_authorizations_html_url': 'https://github.com/settings/connections/applications{/client_id}',\n",
       " 'authorizations_url': 'https://api.github.com/authorizations',\n",
       " 'code_search_url': 'https://api.github.com/search/code?q={query}{&page,per_page,sort,order}',\n",
       " 'commit_search_url': 'https://api.github.com/search/commits?q={query}{&page,per_page,sort,order}',\n",
       " 'emails_url': 'https://api.github.com/user/emails',\n",
       " 'emojis_url': 'https://api.github.com/emojis',\n",
       " 'events_url': 'https://api.github.com/events',\n",
       " 'feeds_url': 'https://api.github.com/feeds',\n",
       " 'followers_url': 'https://api.github.com/user/followers',\n",
       " 'following_url': 'https://api.github.com/user/following{/target}',\n",
       " 'gists_url': 'https://api.github.com/gists{/gist_id}',\n",
       " 'hub_url': 'https://api.github.com/hub',\n",
       " 'issue_search_url': 'https://api.github.com/search/issues?q={query}{&page,per_page,sort,order}',\n",
       " 'issues_url': 'https://api.github.com/issues',\n",
       " 'keys_url': 'https://api.github.com/user/keys',\n",
       " 'notifications_url': 'https://api.github.com/notifications',\n",
       " 'organization_repositories_url': 'https://api.github.com/orgs/{org}/repos{?type,page,per_page,sort}',\n",
       " 'organization_url': 'https://api.github.com/orgs/{org}',\n",
       " 'public_gists_url': 'https://api.github.com/gists/public',\n",
       " 'rate_limit_url': 'https://api.github.com/rate_limit',\n",
       " 'repository_url': 'https://api.github.com/repos/{owner}/{repo}',\n",
       " 'repository_search_url': 'https://api.github.com/search/repositories?q={query}{&page,per_page,sort,order}',\n",
       " 'current_user_repositories_url': 'https://api.github.com/user/repos{?type,page,per_page,sort}',\n",
       " 'starred_url': 'https://api.github.com/user/starred{/owner}{/repo}',\n",
       " 'starred_gists_url': 'https://api.github.com/gists/starred',\n",
       " 'team_url': 'https://api.github.com/teams',\n",
       " 'user_url': 'https://api.github.com/users/{user}',\n",
       " 'user_organizations_url': 'https://api.github.com/user/orgs',\n",
       " 'user_repositories_url': 'https://api.github.com/users/{user}/repos{?type,page,per_page,sort}',\n",
       " 'user_search_url': 'https://api.github.com/search/users?q={query}{&page,per_page,sort,order}'}"
      ]
     },
     "execution_count": 10,
     "metadata": {},
     "output_type": "execute_result"
    }
   ],
   "source": [
    "response.text # in the form of text\n",
    "response.json() # in the form of json"
   ]
  },
  {
   "cell_type": "code",
   "execution_count": 12,
   "metadata": {},
   "outputs": [
    {
     "data": {
      "text/plain": [
       "{'Date': 'Tue, 04 Jun 2019 04:01:52 GMT', 'Content-Type': 'application/json; charset=utf-8', 'Transfer-Encoding': 'chunked', 'Server': 'GitHub.com', 'Status': '200 OK', 'X-RateLimit-Limit': '60', 'X-RateLimit-Remaining': '58', 'X-RateLimit-Reset': '1559624512', 'Cache-Control': 'public, max-age=60, s-maxage=60', 'Vary': 'Accept, Accept-Encoding', 'ETag': 'W/\"7dc470913f1fe9bb6c7355b50a0737bc\"', 'X-GitHub-Media-Type': 'github.v3; format=json', 'Access-Control-Expose-Headers': 'ETag, Link, Location, Retry-After, X-GitHub-OTP, X-RateLimit-Limit, X-RateLimit-Remaining, X-RateLimit-Reset, X-OAuth-Scopes, X-Accepted-OAuth-Scopes, X-Poll-Interval, X-GitHub-Media-Type', 'Access-Control-Allow-Origin': '*', 'Strict-Transport-Security': 'max-age=31536000; includeSubdomains; preload', 'X-Frame-Options': 'deny', 'X-Content-Type-Options': 'nosniff', 'X-XSS-Protection': '1; mode=block', 'Referrer-Policy': 'origin-when-cross-origin, strict-origin-when-cross-origin', 'Content-Security-Policy': \"default-src 'none'\", 'Content-Encoding': 'gzip', 'X-GitHub-Request-Id': 'E546:300C:2E417B:390B8C:5CF5ED2F'}"
      ]
     },
     "execution_count": 12,
     "metadata": {},
     "output_type": "execute_result"
    }
   ],
   "source": [
    "# Headers gives you important info on the payload\n",
    "response.headers # outputs dic"
   ]
  },
  {
   "cell_type": "code",
   "execution_count": 13,
   "metadata": {},
   "outputs": [
    {
     "data": {
      "text/plain": [
       "'Tue, 04 Jun 2019 04:01:52 GMT'"
      ]
     },
     "execution_count": 13,
     "metadata": {},
     "output_type": "execute_result"
    }
   ],
   "source": [
    "response.headers['Date']"
   ]
  },
  {
   "cell_type": "code",
   "execution_count": 15,
   "metadata": {},
   "outputs": [
    {
     "data": {
      "text/plain": [
       "{'id': 1362490,\n",
       " 'node_id': 'MDEwOlJlcG9zaXRvcnkxMzYyNDkw',\n",
       " 'name': 'requests',\n",
       " 'full_name': 'kennethreitz/requests',\n",
       " 'private': False,\n",
       " 'owner': {'login': 'kennethreitz',\n",
       "  'id': 47496974,\n",
       "  'node_id': 'MDEyOk9yZ2FuaXphdGlvbjQ3NDk2OTc0',\n",
       "  'avatar_url': 'https://avatars1.githubusercontent.com/u/47496974?v=4',\n",
       "  'gravatar_id': '',\n",
       "  'url': 'https://api.github.com/users/kennethreitz',\n",
       "  'html_url': 'https://github.com/kennethreitz',\n",
       "  'followers_url': 'https://api.github.com/users/kennethreitz/followers',\n",
       "  'following_url': 'https://api.github.com/users/kennethreitz/following{/other_user}',\n",
       "  'gists_url': 'https://api.github.com/users/kennethreitz/gists{/gist_id}',\n",
       "  'starred_url': 'https://api.github.com/users/kennethreitz/starred{/owner}{/repo}',\n",
       "  'subscriptions_url': 'https://api.github.com/users/kennethreitz/subscriptions',\n",
       "  'organizations_url': 'https://api.github.com/users/kennethreitz/orgs',\n",
       "  'repos_url': 'https://api.github.com/users/kennethreitz/repos',\n",
       "  'events_url': 'https://api.github.com/users/kennethreitz/events{/privacy}',\n",
       "  'received_events_url': 'https://api.github.com/users/kennethreitz/received_events',\n",
       "  'type': 'Organization',\n",
       "  'site_admin': False},\n",
       " 'html_url': 'https://github.com/kennethreitz/requests',\n",
       " 'description': 'Python HTTP Requests for Humans™ ✨🍰✨',\n",
       " 'fork': False,\n",
       " 'url': 'https://api.github.com/repos/kennethreitz/requests',\n",
       " 'forks_url': 'https://api.github.com/repos/kennethreitz/requests/forks',\n",
       " 'keys_url': 'https://api.github.com/repos/kennethreitz/requests/keys{/key_id}',\n",
       " 'collaborators_url': 'https://api.github.com/repos/kennethreitz/requests/collaborators{/collaborator}',\n",
       " 'teams_url': 'https://api.github.com/repos/kennethreitz/requests/teams',\n",
       " 'hooks_url': 'https://api.github.com/repos/kennethreitz/requests/hooks',\n",
       " 'issue_events_url': 'https://api.github.com/repos/kennethreitz/requests/issues/events{/number}',\n",
       " 'events_url': 'https://api.github.com/repos/kennethreitz/requests/events',\n",
       " 'assignees_url': 'https://api.github.com/repos/kennethreitz/requests/assignees{/user}',\n",
       " 'branches_url': 'https://api.github.com/repos/kennethreitz/requests/branches{/branch}',\n",
       " 'tags_url': 'https://api.github.com/repos/kennethreitz/requests/tags',\n",
       " 'blobs_url': 'https://api.github.com/repos/kennethreitz/requests/git/blobs{/sha}',\n",
       " 'git_tags_url': 'https://api.github.com/repos/kennethreitz/requests/git/tags{/sha}',\n",
       " 'git_refs_url': 'https://api.github.com/repos/kennethreitz/requests/git/refs{/sha}',\n",
       " 'trees_url': 'https://api.github.com/repos/kennethreitz/requests/git/trees{/sha}',\n",
       " 'statuses_url': 'https://api.github.com/repos/kennethreitz/requests/statuses/{sha}',\n",
       " 'languages_url': 'https://api.github.com/repos/kennethreitz/requests/languages',\n",
       " 'stargazers_url': 'https://api.github.com/repos/kennethreitz/requests/stargazers',\n",
       " 'contributors_url': 'https://api.github.com/repos/kennethreitz/requests/contributors',\n",
       " 'subscribers_url': 'https://api.github.com/repos/kennethreitz/requests/subscribers',\n",
       " 'subscription_url': 'https://api.github.com/repos/kennethreitz/requests/subscription',\n",
       " 'commits_url': 'https://api.github.com/repos/kennethreitz/requests/commits{/sha}',\n",
       " 'git_commits_url': 'https://api.github.com/repos/kennethreitz/requests/git/commits{/sha}',\n",
       " 'comments_url': 'https://api.github.com/repos/kennethreitz/requests/comments{/number}',\n",
       " 'issue_comment_url': 'https://api.github.com/repos/kennethreitz/requests/issues/comments{/number}',\n",
       " 'contents_url': 'https://api.github.com/repos/kennethreitz/requests/contents/{+path}',\n",
       " 'compare_url': 'https://api.github.com/repos/kennethreitz/requests/compare/{base}...{head}',\n",
       " 'merges_url': 'https://api.github.com/repos/kennethreitz/requests/merges',\n",
       " 'archive_url': 'https://api.github.com/repos/kennethreitz/requests/{archive_format}{/ref}',\n",
       " 'downloads_url': 'https://api.github.com/repos/kennethreitz/requests/downloads',\n",
       " 'issues_url': 'https://api.github.com/repos/kennethreitz/requests/issues{/number}',\n",
       " 'pulls_url': 'https://api.github.com/repos/kennethreitz/requests/pulls{/number}',\n",
       " 'milestones_url': 'https://api.github.com/repos/kennethreitz/requests/milestones{/number}',\n",
       " 'notifications_url': 'https://api.github.com/repos/kennethreitz/requests/notifications{?since,all,participating}',\n",
       " 'labels_url': 'https://api.github.com/repos/kennethreitz/requests/labels{/name}',\n",
       " 'releases_url': 'https://api.github.com/repos/kennethreitz/requests/releases{/id}',\n",
       " 'deployments_url': 'https://api.github.com/repos/kennethreitz/requests/deployments',\n",
       " 'created_at': '2011-02-13T18:38:17Z',\n",
       " 'updated_at': '2019-06-04T03:31:07Z',\n",
       " 'pushed_at': '2019-06-03T14:01:04Z',\n",
       " 'git_url': 'git://github.com/kennethreitz/requests.git',\n",
       " 'ssh_url': 'git@github.com:kennethreitz/requests.git',\n",
       " 'clone_url': 'https://github.com/kennethreitz/requests.git',\n",
       " 'svn_url': 'https://github.com/kennethreitz/requests',\n",
       " 'homepage': 'http://python-requests.org',\n",
       " 'size': 9985,\n",
       " 'stargazers_count': 38842,\n",
       " 'watchers_count': 38842,\n",
       " 'language': 'Python',\n",
       " 'has_issues': True,\n",
       " 'has_projects': False,\n",
       " 'has_downloads': True,\n",
       " 'has_wiki': True,\n",
       " 'has_pages': False,\n",
       " 'forks_count': 7099,\n",
       " 'mirror_url': None,\n",
       " 'archived': False,\n",
       " 'disabled': False,\n",
       " 'open_issues_count': 228,\n",
       " 'license': {'key': 'other',\n",
       "  'name': 'Other',\n",
       "  'spdx_id': 'NOASSERTION',\n",
       "  'url': None,\n",
       "  'node_id': 'MDc6TGljZW5zZTA='},\n",
       " 'forks': 7099,\n",
       " 'open_issues': 228,\n",
       " 'watchers': 38842,\n",
       " 'default_branch': 'master',\n",
       " 'score': 127.284096}"
      ]
     },
     "execution_count": 15,
     "metadata": {},
     "output_type": "execute_result"
    }
   ],
   "source": [
    "# Query String Parameters\n",
    "\n",
    "# Search GitHub's repositories for requests\n",
    "response = requests.get(\n",
    "    'https://api.github.com/search/repositories',\n",
    "    params={'q': 'requests+language:python'},\n",
    ")\n",
    "\n",
    "# params can also be\n",
    "# params=[('q', 'requests+language:python')]\n",
    "# params=b'q=requests+language:python'\n",
    "\n",
    "# Inspect some attributes of the `requests` repository\n",
    "json_response = response.json()\n",
    "repository = json_response['items'][0]\n",
    "repository"
   ]
  },
  {
   "cell_type": "code",
   "execution_count": 16,
   "metadata": {},
   "outputs": [
    {
     "name": "stdout",
     "output_type": "stream",
     "text": [
      "Text matches: [{'object_url': 'https://api.github.com/repositories/1362490', 'object_type': 'Repository', 'property': 'description', 'fragment': 'Python HTTP Requests for Humans™ ✨🍰✨', 'matches': [{'text': 'Requests', 'indices': [12, 20]}]}]\n"
     ]
    }
   ],
   "source": [
    "# Request Headers\n",
    "'''\n",
    "The Accept header tells the server what content types your \n",
    "application can handle. In this case, since you’re expecting \n",
    "the matching search terms to be highlighted, you’re using the \n",
    "header value application/vnd.github.v3.text-match+json, \n",
    "which is a proprietary GitHub Accept header where the content \n",
    "is a special JSON format.\n",
    "'''\n",
    "response = requests.get(\n",
    "    'https://api.github.com/search/repositories',\n",
    "    params={'q': 'requests+language:python'},\n",
    "    headers={'Accept': 'application/vnd.github.v3.text-match+json'},\n",
    ")\n",
    "\n",
    "# View the new `text-matches` array which provides information\n",
    "# about your search term within the results\n",
    "json_response = response.json()\n",
    "repository = json_response['items'][0]\n",
    "print(f'Text matches: {repository[\"text_matches\"]}')\n"
   ]
  },
  {
   "cell_type": "code",
   "execution_count": 17,
   "metadata": {},
   "outputs": [
    {
     "data": {
      "text/plain": [
       "<Response [200]>"
      ]
     },
     "execution_count": 17,
     "metadata": {},
     "output_type": "execute_result"
    }
   ],
   "source": [
    "# Other HTTP Methods\n",
    "requests.post('https://httpbin.org/post', data={'key':'value'})\n",
    "requests.put('https://httpbin.org/put', data={'key':'value'})\n",
    "requests.delete('https://httpbin.org/delete')\n",
    "requests.head('https://httpbin.org/get')\n",
    "requests.patch('https://httpbin.org/patch', data={'key':'value'})\n",
    "requests.options('https://httpbin.org/get')\n"
   ]
  },
  {
   "cell_type": "code",
   "execution_count": 18,
   "metadata": {},
   "outputs": [
    {
     "data": {
      "text/plain": [
       "<Response [200]>"
      ]
     },
     "execution_count": 18,
     "metadata": {},
     "output_type": "execute_result"
    }
   ],
   "source": [
    "# The Message Body\n",
    "'''\n",
    " POST, PUT, and the less common PATCH requests pass their data through the message body\n",
    " \n",
    "'''\n",
    "requests.post('https://httpbin.org/post', data={'key':'value'})"
   ]
  },
  {
   "cell_type": "code",
   "execution_count": 20,
   "metadata": {},
   "outputs": [
    {
     "data": {
      "text/plain": [
       "'application/json'"
      ]
     },
     "execution_count": 20,
     "metadata": {},
     "output_type": "execute_result"
    }
   ],
   "source": [
    "# if you want to send json you can use json parameter\n",
    "\n",
    "response = requests.post('https://httpbin.org/post', json={'key':'value'})\n",
    "json_response = response.json()\n",
    "json_response['data']\n",
    "\n",
    "json_response['headers']['Content-Type']"
   ]
  },
  {
   "cell_type": "code",
   "execution_count": 1,
   "metadata": {},
   "outputs": [
    {
     "ename": "ModuleNotFoundError",
     "evalue": "No module named 'SQlite3'",
     "output_type": "error",
     "traceback": [
      "\u001b[1;31m---------------------------------------------------------------------------\u001b[0m",
      "\u001b[1;31mModuleNotFoundError\u001b[0m                       Traceback (most recent call last)",
      "\u001b[1;32m<ipython-input-1-f53615d01b5c>\u001b[0m in \u001b[0;36m<module>\u001b[1;34m\u001b[0m\n\u001b[0;32m      1\u001b[0m \u001b[1;31m# Inspecting Your Request\u001b[0m\u001b[1;33m\u001b[0m\u001b[1;33m\u001b[0m\u001b[1;33m\u001b[0m\u001b[0m\n\u001b[1;32m----> 2\u001b[1;33m \u001b[1;32mimport\u001b[0m \u001b[0mSQlite3\u001b[0m\u001b[1;33m\u001b[0m\u001b[1;33m\u001b[0m\u001b[0m\n\u001b[0m",
      "\u001b[1;31mModuleNotFoundError\u001b[0m: No module named 'SQlite3'"
     ]
    }
   ],
   "source": [
    "# Inspecting Your Request\n",
    "import SQlite3\n"
   ]
  },
  {
   "cell_type": "code",
   "execution_count": null,
   "metadata": {},
   "outputs": [],
   "source": []
  }
 ],
 "metadata": {
  "kernelspec": {
   "display_name": "Python 3",
   "language": "python",
   "name": "python3"
  },
  "language_info": {
   "codemirror_mode": {
    "name": "ipython",
    "version": 3
   },
   "file_extension": ".py",
   "mimetype": "text/x-python",
   "name": "python",
   "nbconvert_exporter": "python",
   "pygments_lexer": "ipython3",
   "version": "3.6.8"
  }
 },
 "nbformat": 4,
 "nbformat_minor": 2
}
