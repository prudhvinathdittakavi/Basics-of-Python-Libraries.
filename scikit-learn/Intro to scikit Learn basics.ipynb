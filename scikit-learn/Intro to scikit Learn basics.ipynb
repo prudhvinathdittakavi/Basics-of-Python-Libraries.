{
 "cells": [
  {
   "cell_type": "markdown",
   "metadata": {},
   "source": [
    "## Loading a dataset\n",
    "Inbuilt datasets such as the iris and digits datasets for classification and the boston house prices dataset for regression."
   ]
  },
  {
   "cell_type": "code",
   "execution_count": 1,
   "metadata": {
    "collapsed": true
   },
   "outputs": [],
   "source": [
    "from sklearn import datasets\n",
    "iris = datasets.load_iris()\n",
    "digits = datasets.load_digits()"
   ]
  },
  {
   "cell_type": "markdown",
   "metadata": {},
   "source": [
    "digits.data gives access to the features that can be used to classify the digits samples"
   ]
  },
  {
   "cell_type": "code",
   "execution_count": 12,
   "metadata": {},
   "outputs": [
    {
     "data": {
      "text/plain": [
       "(150, 4)"
      ]
     },
     "execution_count": 12,
     "metadata": {},
     "output_type": "execute_result"
    }
   ],
   "source": [
    "# shape of the independent array\n",
    "iris.data.shape      # iris.data is an ndarray\n",
    "\n",
    "# To access the features of the dataset\n",
    "digits.data\n",
    "\n",
    "# To access the target values\n",
    "digits.target\n",
    "\n",
    "# to access each image in the digits dataset\n",
    "digits.images[0]"
   ]
  },
  {
   "cell_type": "markdown",
   "metadata": {},
   "source": [
    "### In scikit-learn, an estimator for classification is a Python object that implements the methods fit(X, y) and predict(T)."
   ]
  },
  {
   "cell_type": "code",
   "execution_count": 4,
   "metadata": {},
   "outputs": [
    {
     "data": {
      "text/plain": [
       "array([8])"
      ]
     },
     "execution_count": 4,
     "metadata": {},
     "output_type": "execute_result"
    }
   ],
   "source": [
    "from sklearn import svm\n",
    "clf = svm.SVC(gamma=0.001, C=100.)\n",
    "\n",
    "#Fitting our data to svm\n",
    "clf.fit(digits.data[:-1], digits.target[:-1])  # Selecting all except the last entry\n",
    "\n",
    "#Predicting the result of the last element\n",
    "clf.predict(digits.data[-1:])"
   ]
  },
  {
   "cell_type": "code",
   "execution_count": 9,
   "metadata": {},
   "outputs": [
    {
     "data": {
      "text/plain": [
       "array(['setosa', 'setosa', 'setosa', 'setosa', 'setosa'],\n",
       "      dtype='<U10')"
      ]
     },
     "execution_count": 9,
     "metadata": {},
     "output_type": "execute_result"
    }
   ],
   "source": [
    "a, b = iris.data , iris.target # a are the independent varaables, b dependent\n",
    "clf2 = svm.SVC()\n",
    "\n",
    "clf2.fit(a,b)\n",
    "clf2.predict(iris.data[0:5])  # predicting as numbers such as 0, 1, 2,....\n",
    "\n",
    "clf2.fit(a, iris.target_names[b]) # predict the names of the output\n",
    "clf2.predict(a[0:5])\n",
    "\n"
   ]
  },
  {
   "cell_type": "markdown",
   "metadata": {},
   "source": [
    "## reshaping data"
   ]
  },
  {
   "cell_type": "code",
   "execution_count": 19,
   "metadata": {},
   "outputs": [
    {
     "data": {
      "text/plain": [
       "(1797, 64)"
      ]
     },
     "execution_count": 19,
     "metadata": {},
     "output_type": "execute_result"
    }
   ],
   "source": [
    "digits.images.shape # 1797 are the number of images, 8*8 is the shape of every image\n",
    "\n",
    "# to displat the image\n",
    "import matplotlib.pyplot as plt \n",
    "plt.imshow(digits.images[1], cmap=plt.cm.gray_r)\n",
    "\n",
    "# reshaping 8*8 to a vector wirh 64 elements\n",
    "data = digits.images.reshape((digits.images.shape[0], -1))\n",
    "data.shape # 1797 are the number of images, 64 are the features\n"
   ]
  }
 ],
 "metadata": {
  "kernelspec": {
   "display_name": "Python 3",
   "language": "python",
   "name": "python3"
  },
  "language_info": {
   "codemirror_mode": {
    "name": "ipython",
    "version": 3
   },
   "file_extension": ".py",
   "mimetype": "text/x-python",
   "name": "python",
   "nbconvert_exporter": "python",
   "pygments_lexer": "ipython3",
   "version": "3.6.3"
  }
 },
 "nbformat": 4,
 "nbformat_minor": 2
}
