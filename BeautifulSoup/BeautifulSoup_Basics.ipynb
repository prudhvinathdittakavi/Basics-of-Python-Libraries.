{
 "cells": [
  {
   "cell_type": "code",
   "execution_count": 1,
   "metadata": {
    "_cell_guid": "b1076dfc-b9ad-4769-8c92-a6c4dae69d19",
    "_uuid": "8f2839f25d086af736a60e9eeb907d3b93b6e0e5",
    "collapsed": true
   },
   "outputs": [],
   "source": [
    "# This Python 3 environment comes with many helpful analytics libraries installed\n",
    "# It is defined by the kaggle/python docker image: https://github.com/kaggle/docker-python\n",
    "# For example, here's several helpful packages to load in \n",
    "\n",
    "import numpy as np # linear algebra\n",
    "import pandas as pd # data processing, CSV file I/O (e.g. pd.read_csv)\n",
    "import requests\n",
    "from bs4 import BeautifulSoup\n",
    "\n",
    "# Input data files are available in the \"../input/\" directory.\n",
    "# For example, running this (by clicking run or pressing Shift+Enter) will list the files in the input directory\n",
    "\n",
    "import os\n",
    "\n",
    "\n",
    "# Any results you write to the current directory are saved as output."
   ]
  },
  {
   "cell_type": "markdown",
   "metadata": {
    "_cell_guid": "79c7e3d0-c299-4dcb-8224-4455121ee9b0",
    "_uuid": "d629ff2d2480ee46fbb7e2d37f6b5fab8052498a",
    "collapsed": true
   },
   "source": [
    "The components of a web page\n",
    "-  HTML — contain the main content of the page.\n",
    "- CSS — add styling to make the page look nicer.\n",
    "- JS — Javascript files add interactivity to web pages.\n",
    "- Images — image formats, such as JPG and PNG allow web pages to show pictures.\n",
    "\n"
   ]
  },
  {
   "cell_type": "code",
   "execution_count": 2,
   "metadata": {
    "_uuid": "81cde24e1942cc338fa320d81cc1923da69f98bd",
    "collapsed": true
   },
   "outputs": [],
   "source": [
    "# Example\n",
    "#<html>\n",
    "#    <head>\n",
    "#    </head>\n",
    "#    <body>\n",
    "#        <p>\n",
    "#            Here's a paragraph of text!\n",
    "#            <a href=\"https://www.dataquest.io\">Learn Data Science Online</a>\n",
    "#        </p>\n",
    "#        <p>\n",
    "#            Here's a second paragraph of text!\n",
    "#            <a href=\"https://www.python.org\">Python</a>\n",
    "#        </p>\n",
    "#    </body>\n",
    "#</html>"
   ]
  },
  {
   "cell_type": "markdown",
   "metadata": {
    "_uuid": "2c58b0d769c733a1e519e2084fbdc26a83d71d8f"
   },
   "source": [
    "- div — indicates a division, or area, of the page.\n",
    "- b — bolds any text inside.\n",
    "- i — italicizes any text inside.\n",
    "- table — creates a table.\n",
    "- form — creates an input form."
   ]
  },
  {
   "cell_type": "code",
   "execution_count": 5,
   "metadata": {
    "_uuid": "b63fc0f2679873b4a9bf4379fbe05f1c583ee8c8"
   },
   "outputs": [
    {
     "data": {
      "text/plain": [
       "<Response [200]>"
      ]
     },
     "execution_count": 5,
     "metadata": {},
     "output_type": "execute_result"
    }
   ],
   "source": [
    "# first thing to do web scraping is to downlode the page\n",
    "# we can do that with a lib 'requests'\n",
    "page = requests.get(\"http://dataquestio.github.io/web-scraping-pages/simple.html\")\n",
    "page"
   ]
  },
  {
   "cell_type": "code",
   "execution_count": 6,
   "metadata": {
    "_uuid": "f3cd04a43407c9030ee6e90143aab0fba4594eec"
   },
   "outputs": [
    {
     "data": {
      "text/plain": [
       "200"
      ]
     },
     "execution_count": 6,
     "metadata": {},
     "output_type": "execute_result"
    }
   ],
   "source": [
    "# Status code indicates if the page is downloded successfully\n",
    "page.status_code\n",
    "\n",
    "# starting digit 2 means successfull\n",
    "# 4 & 5 indicates error"
   ]
  },
  {
   "cell_type": "code",
   "execution_count": 7,
   "metadata": {},
   "outputs": [
    {
     "data": {
      "text/plain": [
       "b'<!DOCTYPE html>\\n<html>\\n    <head>\\n        <title>A simple example page</title>\\n    </head>\\n    <body>\\n        <p>Here is some simple content for this page.</p>\\n    </body>\\n</html>'"
      ]
     },
     "execution_count": 7,
     "metadata": {},
     "output_type": "execute_result"
    }
   ],
   "source": [
    "page.content"
   ]
  },
  {
   "cell_type": "code",
   "execution_count": 8,
   "metadata": {
    "collapsed": true
   },
   "outputs": [],
   "source": [
    "# now we use beautifulSoup to parse the data\n",
    "\n",
    "# creating an instance\n",
    "data = BeautifulSoup(page.content, 'html.parser')"
   ]
  },
  {
   "cell_type": "code",
   "execution_count": 9,
   "metadata": {},
   "outputs": [
    {
     "name": "stdout",
     "output_type": "stream",
     "text": [
      "<!DOCTYPE html>\n",
      "<html>\n",
      " <head>\n",
      "  <title>\n",
      "   A simple example page\n",
      "  </title>\n",
      " </head>\n",
      " <body>\n",
      "  <p>\n",
      "   Here is some simple content for this page.\n",
      "  </p>\n",
      " </body>\n",
      "</html>\n"
     ]
    }
   ],
   "source": [
    "# prettify - used to print html content in proper format\n",
    "\n",
    "print(data.prettify())"
   ]
  },
  {
   "cell_type": "code",
   "execution_count": 10,
   "metadata": {},
   "outputs": [
    {
     "data": {
      "text/plain": [
       "['html', '\\n', <html>\n",
       " <head>\n",
       " <title>A simple example page</title>\n",
       " </head>\n",
       " <body>\n",
       " <p>Here is some simple content for this page.</p>\n",
       " </body>\n",
       " </html>]"
      ]
     },
     "execution_count": 10,
     "metadata": {},
     "output_type": "execute_result"
    }
   ],
   "source": [
    " # selecting all the elements at the top level of the page.\n",
    "\n",
    "list(data.children)"
   ]
  },
  {
   "cell_type": "code",
   "execution_count": 11,
   "metadata": {},
   "outputs": [
    {
     "data": {
      "text/plain": [
       "[bs4.element.Doctype, bs4.element.NavigableString, bs4.element.Tag]"
      ]
     },
     "execution_count": 11,
     "metadata": {},
     "output_type": "execute_result"
    }
   ],
   "source": [
    "# finding the type of elements \n",
    "\n",
    "[type(i) for i in list(data.children)]\n",
    "\n",
    "# Doctype object, which contains information about the type of the document.\n",
    "# NavigableString, which represents text found in the HTML document\n",
    "# tag object, which contains other nested tags."
   ]
  },
  {
   "cell_type": "code",
   "execution_count": 12,
   "metadata": {},
   "outputs": [
    {
     "data": {
      "text/plain": [
       "'A simple example page'"
      ]
     },
     "execution_count": 12,
     "metadata": {},
     "output_type": "execute_result"
    }
   ],
   "source": [
    "html = list(data.children)[2]\n",
    "html\n",
    "head = list(html.children)[1]\n",
    "body = list(head.children)\n",
    "txt = body[1]\n",
    "txt.get_text()"
   ]
  },
  {
   "cell_type": "code",
   "execution_count": 13,
   "metadata": {},
   "outputs": [
    {
     "data": {
      "text/plain": [
       "[<p>Here is some simple content for this page.</p>]"
      ]
     },
     "execution_count": 13,
     "metadata": {},
     "output_type": "execute_result"
    }
   ],
   "source": [
    "# finding all the tags at once\n",
    "\n",
    "data.find_all('p')\n",
    "\n",
    "# find all returns a list"
   ]
  },
  {
   "cell_type": "code",
   "execution_count": 14,
   "metadata": {},
   "outputs": [
    {
     "data": {
      "text/plain": [
       "'Here is some simple content for this page.'"
      ]
     },
     "execution_count": 14,
     "metadata": {},
     "output_type": "execute_result"
    }
   ],
   "source": [
    "data.find_all('p')[0].get_text()"
   ]
  },
  {
   "cell_type": "code",
   "execution_count": 15,
   "metadata": {},
   "outputs": [
    {
     "data": {
      "text/plain": [
       "<p>Here is some simple content for this page.</p>"
      ]
     },
     "execution_count": 15,
     "metadata": {},
     "output_type": "execute_result"
    }
   ],
   "source": [
    "# finding the first instance \n",
    "\n",
    "data.find('p')"
   ]
  },
  {
   "cell_type": "code",
   "execution_count": 19,
   "metadata": {},
   "outputs": [
    {
     "data": {
      "text/plain": [
       "<html>\n",
       "<head>\n",
       "<title>A simple example page</title>\n",
       "</head>\n",
       "<body>\n",
       "<div>\n",
       "<p class=\"inner-text first-item\" id=\"first\">\n",
       "                First paragraph.\n",
       "            </p>\n",
       "<p class=\"inner-text\">\n",
       "                Second paragraph.\n",
       "            </p>\n",
       "</div>\n",
       "<p class=\"outer-text first-item\" id=\"second\">\n",
       "<b>\n",
       "                First outer paragraph.\n",
       "            </b>\n",
       "</p>\n",
       "<p class=\"outer-text\">\n",
       "<b>\n",
       "                Second outer paragraph.\n",
       "            </b>\n",
       "</p>\n",
       "</body>\n",
       "</html>"
      ]
     },
     "execution_count": 19,
     "metadata": {},
     "output_type": "execute_result"
    }
   ],
   "source": [
    "# learning how to use class and id \n",
    "\n",
    "page = requests.get(\"http://dataquestio.github.io/web-scraping-pages/ids_and_classes.html\")\n",
    "pg_dt = BeautifulSoup(page.content, 'html.parser')\n",
    "pg_dt"
   ]
  },
  {
   "cell_type": "code",
   "execution_count": 21,
   "metadata": {},
   "outputs": [
    {
     "data": {
      "text/plain": [
       "[<p class=\"outer-text first-item\" id=\"second\">\n",
       " <b>\n",
       "                 First outer paragraph.\n",
       "             </b>\n",
       " </p>, <p class=\"outer-text\">\n",
       " <b>\n",
       "                 Second outer paragraph.\n",
       "             </b>\n",
       " </p>]"
      ]
     },
     "execution_count": 21,
     "metadata": {},
     "output_type": "execute_result"
    }
   ],
   "source": [
    "# find all method using class\n",
    "pg_dt.find_all('p', class_ = 'outer-text')"
   ]
  },
  {
   "cell_type": "code",
   "execution_count": 22,
   "metadata": {},
   "outputs": [
    {
     "data": {
      "text/plain": [
       "[<p class=\"outer-text first-item\" id=\"second\">\n",
       " <b>\n",
       "                 First outer paragraph.\n",
       "             </b>\n",
       " </p>, <p class=\"outer-text\">\n",
       " <b>\n",
       "                 Second outer paragraph.\n",
       "             </b>\n",
       " </p>]"
      ]
     },
     "execution_count": 22,
     "metadata": {},
     "output_type": "execute_result"
    }
   ],
   "source": [
    "# all the tags with a given tag\n",
    "pg_dt.find_all(class_ = \"outer-text\")"
   ]
  },
  {
   "cell_type": "code",
   "execution_count": 23,
   "metadata": {},
   "outputs": [
    {
     "data": {
      "text/plain": [
       "[<p class=\"inner-text first-item\" id=\"first\">\n",
       "                 First paragraph.\n",
       "             </p>]"
      ]
     },
     "execution_count": 23,
     "metadata": {},
     "output_type": "execute_result"
    }
   ],
   "source": [
    "pg_dt.find_all(id = \"first\")"
   ]
  },
  {
   "cell_type": "code",
   "execution_count": 25,
   "metadata": {},
   "outputs": [
    {
     "data": {
      "text/plain": [
       "'\\np a — finds all a tags inside of a p tag.\\n\\nbody p a — finds all a tags inside of a p tag inside of a body tag.\\n\\nhtml body — finds all body tags inside of an html tag.\\n\\np.outer-text — finds all p tags with a class of outer-text.\\n\\np#first — finds all p tags with an id of first.\\n\\nbody p.outer-text — finds any p tags with a class of outer-text inside of a body tag.\\n'"
      ]
     },
     "execution_count": 25,
     "metadata": {},
     "output_type": "execute_result"
    }
   ],
   "source": [
    "\"\"\"\n",
    "p a — finds all a tags inside of a p tag.\n",
    "\n",
    "body p a — finds all a tags inside of a p tag inside of a body tag.\n",
    "\n",
    "html body — finds all body tags inside of an html tag.\n",
    "\n",
    "p.outer-text — finds all p tags with a class of outer-text.\n",
    "\n",
    "p#first — finds all p tags with an id of first.\n",
    "\n",
    "body p.outer-text — finds any p tags with a class of outer-text inside of a body tag.\n",
    "\"\"\""
   ]
  },
  {
   "cell_type": "code",
   "execution_count": 36,
   "metadata": {},
   "outputs": [
    {
     "name": "stdout",
     "output_type": "stream",
     "text": [
      "Tonight\n",
      "Thursday\n",
      "ThursdayNight\n",
      "Friday\n",
      "FridayNight\n",
      "Saturday\n",
      "SaturdayNight\n",
      "Sunday\n",
      "SundayNight\n"
     ]
    }
   ],
   "source": [
    "# extracting data from \"https://forecast.weather.gov/MapClick.php?lat=37.7772&lon=-122.4168#.W5mHm-hKiMo\"\n",
    "\n",
    "page = requests.get(\"https://forecast.weather.gov/MapClick.php?lat=37.7772&lon=-122.4168#.W5mHm-hKiMo\")\n",
    "soup = BeautifulSoup(page.content, 'html.parser')\n",
    "\n",
    "days = soup.find(id = 'seven-day-forecast')\n",
    "\n",
    "forcast_items = days.find_all(class_ = 'tombstone-container')\n",
    "\n",
    "for i in range(len(forcast_items)):\n",
    "    print(forcast_items[i].find('p', class_ = 'period-name').get_text())"
   ]
  },
  {
   "cell_type": "code",
   "execution_count": 37,
   "metadata": {},
   "outputs": [
    {
     "data": {
      "text/plain": [
       "<div class=\"tombstone-container\">\n",
       "<p class=\"period-name\">Tonight<br/><br/></p>\n",
       "<p><img alt=\"Tonight: Mostly cloudy, with a low around 55. Breezy, with a west wind 15 to 23 mph, with gusts as high as 30 mph. \" class=\"forecast-icon\" src=\"DualImage.php?i=nwind_bkn&amp;j=nbkn\" title=\"Tonight: Mostly cloudy, with a low around 55. Breezy, with a west wind 15 to 23 mph, with gusts as high as 30 mph. \"/></p><p class=\"short-desc\">Mostly Cloudy<br/>and Breezy<br/>then Mostly<br/>Cloudy</p><p class=\"temp temp-low\">Low: 55 °F</p></div>"
      ]
     },
     "execution_count": 37,
     "metadata": {},
     "output_type": "execute_result"
    }
   ],
   "source": [
    "forcast_items[0]"
   ]
  },
  {
   "cell_type": "code",
   "execution_count": 40,
   "metadata": {},
   "outputs": [
    {
     "data": {
      "text/plain": [
       "<img alt=\"Tonight: Mostly cloudy, with a low around 55. Breezy, with a west wind 15 to 23 mph, with gusts as high as 30 mph. \" class=\"forecast-icon\" src=\"DualImage.php?i=nwind_bkn&amp;j=nbkn\" title=\"Tonight: Mostly cloudy, with a low around 55. Breezy, with a west wind 15 to 23 mph, with gusts as high as 30 mph. \"/>"
      ]
     },
     "execution_count": 40,
     "metadata": {},
     "output_type": "execute_result"
    }
   ],
   "source": [
    "# description of toningt is in img tag\n",
    "img = forcast_items[0].find('img')\n",
    "img"
   ]
  },
  {
   "cell_type": "code",
   "execution_count": 41,
   "metadata": {},
   "outputs": [
    {
     "data": {
      "text/plain": [
       "'Tonight: Mostly cloudy, with a low around 55. Breezy, with a west wind 15 to 23 mph, with gusts as high as 30 mph. '"
      ]
     },
     "execution_count": 41,
     "metadata": {},
     "output_type": "execute_result"
    }
   ],
   "source": [
    "img['title']"
   ]
  },
  {
   "cell_type": "code",
   "execution_count": 44,
   "metadata": {},
   "outputs": [
    {
     "data": {
      "text/plain": [
       "[<p class=\"period-name\">Tonight<br/><br/></p>,\n",
       " <p class=\"period-name\">Thursday<br/><br/></p>,\n",
       " <p class=\"period-name\">Thursday<br/>Night</p>,\n",
       " <p class=\"period-name\">Friday<br/><br/></p>,\n",
       " <p class=\"period-name\">Friday<br/>Night</p>,\n",
       " <p class=\"period-name\">Saturday<br/><br/></p>,\n",
       " <p class=\"period-name\">Saturday<br/>Night</p>,\n",
       " <p class=\"period-name\">Sunday<br/><br/></p>,\n",
       " <p class=\"period-name\">Sunday<br/>Night</p>]"
      ]
     },
     "execution_count": 44,
     "metadata": {},
     "output_type": "execute_result"
    }
   ],
   "source": [
    "# now we will collect all at once\n",
    "\n",
    "period_tags = days.select('.tombstone-container .period-name')\n",
    "period_tags"
   ]
  },
  {
   "cell_type": "code",
   "execution_count": 45,
   "metadata": {},
   "outputs": [
    {
     "data": {
      "text/plain": [
       "['Tonight',\n",
       " 'Thursday',\n",
       " 'ThursdayNight',\n",
       " 'Friday',\n",
       " 'FridayNight',\n",
       " 'Saturday',\n",
       " 'SaturdayNight',\n",
       " 'Sunday',\n",
       " 'SundayNight']"
      ]
     },
     "execution_count": 45,
     "metadata": {},
     "output_type": "execute_result"
    }
   ],
   "source": [
    "periods = [x.get_text() for x in period_tags]\n",
    "periods"
   ]
  },
  {
   "cell_type": "code",
   "execution_count": 53,
   "metadata": {},
   "outputs": [
    {
     "data": {
      "text/plain": [
       "['Low: 55 °F',\n",
       " 'High: 63 °F',\n",
       " 'Low: 54 °F',\n",
       " 'High: 64 °F',\n",
       " 'Low: 54 °F',\n",
       " 'High: 64 °F',\n",
       " 'Low: 54 °F',\n",
       " 'High: 65 °F',\n",
       " 'Low: 54 °F']"
      ]
     },
     "execution_count": 53,
     "metadata": {},
     "output_type": "execute_result"
    }
   ],
   "source": [
    "description = [x['title'] for x in days.select(\".tombstone-container img\")]\n",
    "short_description = [y.get_text() for y in days.select(\".tombstone-container .short-desc\")]\n",
    "temp = [z.get_text() for z in days.select(\".tombstone-container .temp\")]\n",
    "temp"
   ]
  },
  {
   "cell_type": "code",
   "execution_count": 54,
   "metadata": {},
   "outputs": [
    {
     "data": {
      "text/html": [
       "<div>\n",
       "<style>\n",
       "    .dataframe thead tr:only-child th {\n",
       "        text-align: right;\n",
       "    }\n",
       "\n",
       "    .dataframe thead th {\n",
       "        text-align: left;\n",
       "    }\n",
       "\n",
       "    .dataframe tbody tr th {\n",
       "        vertical-align: top;\n",
       "    }\n",
       "</style>\n",
       "<table border=\"1\" class=\"dataframe\">\n",
       "  <thead>\n",
       "    <tr style=\"text-align: right;\">\n",
       "      <th></th>\n",
       "      <th>Temperature</th>\n",
       "      <th>description</th>\n",
       "      <th>period</th>\n",
       "      <th>short_desc</th>\n",
       "    </tr>\n",
       "  </thead>\n",
       "  <tbody>\n",
       "    <tr>\n",
       "      <th>0</th>\n",
       "      <td>Low: 55 °F</td>\n",
       "      <td>Tonight: Mostly cloudy, with a low around 55. ...</td>\n",
       "      <td>Tonight</td>\n",
       "      <td>Mostly Cloudyand Breezythen MostlyCloudy</td>\n",
       "    </tr>\n",
       "    <tr>\n",
       "      <th>1</th>\n",
       "      <td>High: 63 °F</td>\n",
       "      <td>Thursday: Mostly sunny, with a high near 63. B...</td>\n",
       "      <td>Thursday</td>\n",
       "      <td>Partly Sunnythen MostlySunny andBreezy</td>\n",
       "    </tr>\n",
       "    <tr>\n",
       "      <th>2</th>\n",
       "      <td>Low: 54 °F</td>\n",
       "      <td>Thursday Night: Partly cloudy, with a low arou...</td>\n",
       "      <td>ThursdayNight</td>\n",
       "      <td>Partly Cloudyand Breezythen MostlyCloudy</td>\n",
       "    </tr>\n",
       "    <tr>\n",
       "      <th>3</th>\n",
       "      <td>High: 64 °F</td>\n",
       "      <td>Friday: Mostly cloudy, then gradually becoming...</td>\n",
       "      <td>Friday</td>\n",
       "      <td>DecreasingClouds</td>\n",
       "    </tr>\n",
       "    <tr>\n",
       "      <th>4</th>\n",
       "      <td>Low: 54 °F</td>\n",
       "      <td>Friday Night: Partly cloudy, with a low around...</td>\n",
       "      <td>FridayNight</td>\n",
       "      <td>Partly Cloudy</td>\n",
       "    </tr>\n",
       "    <tr>\n",
       "      <th>5</th>\n",
       "      <td>High: 64 °F</td>\n",
       "      <td>Saturday: Mostly sunny, with a high near 64. B...</td>\n",
       "      <td>Saturday</td>\n",
       "      <td>Mostly Sunnyand Breezy</td>\n",
       "    </tr>\n",
       "    <tr>\n",
       "      <th>6</th>\n",
       "      <td>Low: 54 °F</td>\n",
       "      <td>Saturday Night: Partly cloudy, with a low arou...</td>\n",
       "      <td>SaturdayNight</td>\n",
       "      <td>Partly Cloudy</td>\n",
       "    </tr>\n",
       "    <tr>\n",
       "      <th>7</th>\n",
       "      <td>High: 65 °F</td>\n",
       "      <td>Sunday: Mostly sunny, with a high near 65.</td>\n",
       "      <td>Sunday</td>\n",
       "      <td>Mostly Sunny</td>\n",
       "    </tr>\n",
       "    <tr>\n",
       "      <th>8</th>\n",
       "      <td>Low: 54 °F</td>\n",
       "      <td>Sunday Night: Partly cloudy, with a low around...</td>\n",
       "      <td>SundayNight</td>\n",
       "      <td>Partly Cloudy</td>\n",
       "    </tr>\n",
       "  </tbody>\n",
       "</table>\n",
       "</div>"
      ],
      "text/plain": [
       "   Temperature                                        description  \\\n",
       "0   Low: 55 °F  Tonight: Mostly cloudy, with a low around 55. ...   \n",
       "1  High: 63 °F  Thursday: Mostly sunny, with a high near 63. B...   \n",
       "2   Low: 54 °F  Thursday Night: Partly cloudy, with a low arou...   \n",
       "3  High: 64 °F  Friday: Mostly cloudy, then gradually becoming...   \n",
       "4   Low: 54 °F  Friday Night: Partly cloudy, with a low around...   \n",
       "5  High: 64 °F  Saturday: Mostly sunny, with a high near 64. B...   \n",
       "6   Low: 54 °F  Saturday Night: Partly cloudy, with a low arou...   \n",
       "7  High: 65 °F         Sunday: Mostly sunny, with a high near 65.   \n",
       "8   Low: 54 °F  Sunday Night: Partly cloudy, with a low around...   \n",
       "\n",
       "          period                                short_desc  \n",
       "0        Tonight  Mostly Cloudyand Breezythen MostlyCloudy  \n",
       "1       Thursday    Partly Sunnythen MostlySunny andBreezy  \n",
       "2  ThursdayNight  Partly Cloudyand Breezythen MostlyCloudy  \n",
       "3         Friday                          DecreasingClouds  \n",
       "4    FridayNight                             Partly Cloudy  \n",
       "5       Saturday                    Mostly Sunnyand Breezy  \n",
       "6  SaturdayNight                             Partly Cloudy  \n",
       "7         Sunday                              Mostly Sunny  \n",
       "8    SundayNight                             Partly Cloudy  "
      ]
     },
     "execution_count": 54,
     "metadata": {},
     "output_type": "execute_result"
    }
   ],
   "source": [
    "# creating a table\n",
    "\n",
    "weather = pd.DataFrame({\"period\" : periods,\n",
    "                       \"short_desc\" : short_description,\n",
    "                       \"description\" : description,\n",
    "                       \"Temperature\" : temp})\n",
    "weather"
   ]
  }
 ],
 "metadata": {
  "kernelspec": {
   "display_name": "Python 3",
   "language": "python",
   "name": "python3"
  },
  "language_info": {
   "codemirror_mode": {
    "name": "ipython",
    "version": 3
   },
   "file_extension": ".py",
   "mimetype": "text/x-python",
   "name": "python",
   "nbconvert_exporter": "python",
   "pygments_lexer": "ipython3",
   "version": "3.6.3"
  }
 },
 "nbformat": 4,
 "nbformat_minor": 1
}
